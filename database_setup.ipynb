{
 "cells": [
  {
   "cell_type": "code",
   "execution_count": 1,
   "id": "forbidden-manor",
   "metadata": {},
   "outputs": [],
   "source": [
    "import sqlalchemy as sqla \n",
    "from sqlalchemy import create_engine \n",
    "import traceback \n",
    "import glob \n",
    "import os \n",
    "#import py as MySQLdb\n",
    "#from pprint import PPrint \n",
    "#import simplejson as json \n",
    "import requests \n",
    "import time \n",
    "import json\n",
    "\n",
    "# secrets.py file where i store sensitive info\n",
    "import my_secrets\n",
    "\n",
    "from IPython.display import display\n",
    "\n",
    "# mysql driver\n",
    "import pymysql"
   ]
  },
  {
   "cell_type": "code",
   "execution_count": 2,
   "id": "contrary-brook",
   "metadata": {},
   "outputs": [],
   "source": [
    "import requests\n",
    "import traceback\n",
    "import datetime\n",
    "import time\n",
    "import os\n",
    "from api_keys import APIKEY"
   ]
  },
  {
   "cell_type": "code",
   "execution_count": 3,
   "id": "indonesian-denial",
   "metadata": {},
   "outputs": [
    {
     "name": "stdout",
     "output_type": "stream",
     "text": [
      "2021-02-16 18:13:18,901 INFO sqlalchemy.engine.base.Engine SHOW VARIABLES LIKE 'sql_mode'\n",
      "2021-02-16 18:13:18,904 INFO sqlalchemy.engine.base.Engine {}\n",
      "2021-02-16 18:13:19,012 INFO sqlalchemy.engine.base.Engine SHOW VARIABLES LIKE 'lower_case_table_names'\n",
      "2021-02-16 18:13:19,014 INFO sqlalchemy.engine.base.Engine {}\n",
      "2021-02-16 18:13:19,238 INFO sqlalchemy.engine.base.Engine SELECT DATABASE()\n",
      "2021-02-16 18:13:19,238 INFO sqlalchemy.engine.base.Engine {}\n",
      "2021-02-16 18:13:19,645 INFO sqlalchemy.engine.base.Engine show collation where `Charset` = 'utf8mb4' and `Collation` = 'utf8mb4_bin'\n",
      "2021-02-16 18:13:19,648 INFO sqlalchemy.engine.base.Engine {}\n",
      "2021-02-16 18:13:19,877 INFO sqlalchemy.engine.base.Engine SELECT CAST('test plain returns' AS CHAR(60)) AS anon_1\n",
      "2021-02-16 18:13:19,878 INFO sqlalchemy.engine.base.Engine {}\n",
      "2021-02-16 18:13:20,037 INFO sqlalchemy.engine.base.Engine SELECT CAST('test unicode returns' AS CHAR(60)) AS anon_1\n",
      "2021-02-16 18:13:20,038 INFO sqlalchemy.engine.base.Engine {}\n",
      "2021-02-16 18:13:20,146 INFO sqlalchemy.engine.base.Engine SELECT CAST('test collated returns' AS CHAR CHARACTER SET utf8mb4) COLLATE utf8mb4_bin AS anon_1\n",
      "2021-02-16 18:13:20,147 INFO sqlalchemy.engine.base.Engine {}\n"
     ]
    }
   ],
   "source": [
    "#Connect to database\n",
    "engine = create_engine(\"mysql+pymysql://{0}:{1}@{2}\".format(my_secrets.DB_USER, my_secrets.DB_PASS, my_secrets.DB_URI), echo=True) \n",
    "connection = engine.connect()"
   ]
  },
  {
   "cell_type": "code",
   "execution_count": null,
   "id": "friendly-genome",
   "metadata": {},
   "outputs": [],
   "source": [
    "# command to check database is running\n",
    "for res in engine.execute(\"SHOW VARIABLES;\"):\n",
    "    print(res)"
   ]
  },
  {
   "cell_type": "code",
   "execution_count": null,
   "id": "committed-asthma",
   "metadata": {},
   "outputs": [],
   "source": [
    "sql_create_schema = \"CREATE SCHEMA `dublin_bikes`;\"\n",
    "try:\n",
    "    #res = engine.execute(\"DROP TABLE IF EXISTS station\")\n",
    "    res = engine.execute(sql_create_schema)\n",
    "    print(res.fetchall())\n",
    "except Exception as e:\n",
    "    print(e)"
   ]
  },
  {
   "cell_type": "code",
   "execution_count": null,
   "id": "contained-beginning",
   "metadata": {},
   "outputs": [],
   "source": [
    "# command to create table in mysql\n",
    "sql_create_table = \"\"\"\n",
    "CREATE TABLE IF NOT EXISTS `dublin_bikes`.`station` (\n",
    "address VARCHAR(256),\n",
    "banking INTEGER,\n",
    "bike_stands INTEGER,\n",
    "bonus INTEGER,\n",
    "contact_name VARCHAR(256),\n",
    "name VARCHAR(256),\n",
    "number INTEGER,\n",
    "position_lat REAL,\n",
    "position_lng REAL,\n",
    "status VARCHAR(256)\n",
    ")\n",
    "\"\"\"\n",
    "\n",
    "try:\n",
    "    #res = engine.execute(\"DROP TABLE IF EXISTS station\")\n",
    "    res = engine.execute(sql_create_table)\n",
    "    print(res.fetchall())\n",
    "except Exception as e:\n",
    "    print(e)"
   ]
  },
  {
   "cell_type": "code",
   "execution_count": null,
   "id": "macro-technician",
   "metadata": {},
   "outputs": [],
   "source": [
    "# command to create table in mysql\n",
    "sql_create_table = \"\"\"\n",
    "CREATE TABLE IF NOT EXISTS `dublin_bikes`.`availability` (\n",
    "number INTEGER,\n",
    "available_bikes INTEGER,\n",
    "available_bike_stands INTEGER,\n",
    "last_update INTEGER\n",
    ")\n",
    "\"\"\"\n",
    "\n",
    "try:\n",
    "    #res = engine.execute(\"DROP TABLE IF EXISTS station\")\n",
    "    res = engine.execute(sql_create_table)\n",
    "    print(res.fetchall())\n",
    "except Exception as e:\n",
    "    print(e)"
   ]
  },
  {
   "cell_type": "code",
   "execution_count": null,
   "id": "musical-slope",
   "metadata": {},
   "outputs": [],
   "source": [
    "NAME=\"Dublin\"\n",
    "STATIONS=\"https://api.jcdecaux.com/vls/v1/stations/\"\n",
    "\n",
    "def write_to_file(text):\n",
    "    date_underscores = \"{:%Y_%m_%d_%H_%M_%S}\".format(datetime.datetime.now())\n",
    "    with open(r\"data\\bikes_{}\".format(date_underscores).replace(\" \", \"_\"), \"w\") as f:\n",
    "        f.write(text)\n",
    "\n",
    "def stations_to_db(text):\n",
    "    stations = json.loads(text)\n",
    "    print(type(stations), len(stations))\n",
    "    for station in stations:\n",
    "        print(station)\n",
    "        vals = (station.get(\"address\"),int(station.get(\"banking\")), int(station.get(\"bike_stands\")), int(station.get(\"bonus\")),station.get(\"contract_name\"), station.get(\"name\"), station.get(\"number\"), station.get(\"position\").get(\"lat\"), station.get(\"position\").get(\"lng\"), station.get(\"status\"))\n",
    "        engine.execute(\"INSERT INTO `dublin_bikes`.`station` values(%s,%s,%s,%s,%s,%s,%s,%s,%s,%s)\", vals)\n",
    "    return\n",
    "\n",
    "                                            \n",
    "def main():\n",
    "    print(os.path)\n",
    "    while True:\n",
    "        try:\n",
    "            now = datetime.datetime.now()\n",
    "            r = requests.get(STATIONS, params={\"apiKey\": APIKEY, \"contract\" : NAME})\n",
    "            print(r, now)\n",
    "            write_to_file(r.text)\n",
    "            stations_to_db(r.text)\n",
    "            time.sleep(5*60)\n",
    "        except:\n",
    "            print(traceback.format_exc())\n",
    "            #if engine is None:\n",
    "                #pass\n",
    "        return\n",
    "\n",
    "if __name__== \"__main__\":\n",
    "    main()"
   ]
  },
  {
   "cell_type": "code",
   "execution_count": null,
   "id": "other-pipeline",
   "metadata": {},
   "outputs": [],
   "source": []
  },
  {
   "cell_type": "code",
   "execution_count": null,
   "id": "consolidated-arbitration",
   "metadata": {},
   "outputs": [],
   "source": []
  }
 ],
 "metadata": {
  "kernelspec": {
   "display_name": "Python 3",
   "language": "python",
   "name": "python3"
  },
  "language_info": {
   "codemirror_mode": {
    "name": "ipython",
    "version": 3
   },
   "file_extension": ".py",
   "mimetype": "text/x-python",
   "name": "python",
   "nbconvert_exporter": "python",
   "pygments_lexer": "ipython3",
   "version": "3.8.5"
  }
 },
 "nbformat": 4,
 "nbformat_minor": 5
}
