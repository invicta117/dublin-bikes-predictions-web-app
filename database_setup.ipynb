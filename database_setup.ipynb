{
 "cells": [
  {
   "cell_type": "code",
   "execution_count": null,
   "id": "matched-diagnosis",
   "metadata": {},
   "outputs": [],
   "source": [
    "import sqlalchemy as sqla \n",
    "from sqlalchemy import create_engine \n",
    "import traceback \n",
    "import glob \n",
    "import os \n",
    "#import py as MySQLdb\n",
    "#from pprint import PPrint \n",
    "#import simplejson as json \n",
    "import requests \n",
    "import time \n",
    "import json\n",
    "\n",
    "# secrets.py file where i store sensitive info\n",
    "import my_secrets\n",
    "\n",
    "from IPython.display import display\n",
    "\n",
    "# mysql driver\n",
    "import pymysql"
   ]
  },
  {
   "cell_type": "code",
   "execution_count": null,
   "id": "british-cursor",
   "metadata": {},
   "outputs": [],
   "source": [
    "import requests\n",
    "import traceback\n",
    "import datetime\n",
    "import time\n",
    "import os\n",
    "from my_secrets import APIKEY # NB I PUT API KEY IN my_secrets AS WELL"
   ]
  },
  {
   "cell_type": "code",
   "execution_count": null,
   "id": "coastal-buffalo",
   "metadata": {},
   "outputs": [],
   "source": [
    "#Connect to database\n",
    "engine = create_engine(\"mysql+pymysql://{0}:{1}@{2}\".format(my_secrets.DB_USER, my_secrets.DB_PASS, my_secrets.DB_URI), echo=True) \n",
    "connection = engine.connect()"
   ]
  },
  {
   "cell_type": "code",
   "execution_count": null,
   "id": "documented-practitioner",
   "metadata": {},
   "outputs": [],
   "source": [
    "# command to check database is running\n",
    "for res in engine.execute(\"SHOW VARIABLES;\"):\n",
    "    print(res)"
   ]
  },
  {
   "cell_type": "code",
   "execution_count": null,
   "id": "fatal-rescue",
   "metadata": {},
   "outputs": [],
   "source": [
    "sql_create_schema = \"CREATE SCHEMA `dublin_bikes`;\"\n",
    "try:\n",
    "    #res = engine.execute(\"DROP TABLE IF EXISTS station\")\n",
    "    res = engine.execute(sql_create_schema)\n",
    "    print(res.fetchall())\n",
    "except Exception as e:\n",
    "    print(e)"
   ]
  },
  {
   "cell_type": "code",
   "execution_count": null,
   "id": "assumed-murder",
   "metadata": {},
   "outputs": [],
   "source": [
    "# command to create table in mysql\n",
    "sql_create_table = \"\"\"\n",
    "CREATE TABLE IF NOT EXISTS `dublin_bikes`.`station` (\n",
    "address VARCHAR(256),\n",
    "banking INTEGER,\n",
    "bike_stands INTEGER,\n",
    "bonus INTEGER,\n",
    "contact_name VARCHAR(256),\n",
    "name VARCHAR(256),\n",
    "number INTEGER,\n",
    "position_lat REAL,\n",
    "position_lng REAL,\n",
    "status VARCHAR(256)\n",
    ")\n",
    "\"\"\"\n",
    "\n",
    "try:\n",
    "    #res = engine.execute(\"DROP TABLE IF EXISTS station\")\n",
    "    res = engine.execute(sql_create_table)\n",
    "    print(res.fetchall())\n",
    "except Exception as e:\n",
    "    print(e)"
   ]
  },
  {
   "cell_type": "code",
   "execution_count": null,
   "id": "appreciated-bobby",
   "metadata": {},
   "outputs": [],
   "source": [
    "# command to create table in mysql\n",
    "sql_create_table = \"\"\"\n",
    "CREATE TABLE IF NOT EXISTS `dublin_bikes`.`availability` (\n",
    "number INTEGER,\n",
    "available_bikes INTEGER,\n",
    "available_bike_stands INTEGER,\n",
    "last_update INTEGER\n",
    ")\n",
    "\"\"\"\n",
    "\n",
    "try:\n",
    "    #res = engine.execute(\"DROP TABLE IF EXISTS station\")\n",
    "    res = engine.execute(sql_create_table)\n",
    "    print(res.fetchall())\n",
    "except Exception as e:\n",
    "    print(e)"
   ]
  },
  {
   "cell_type": "code",
   "execution_count": null,
   "id": "mounted-secretariat",
   "metadata": {},
   "outputs": [],
   "source": [
    "NAME=\"Dublin\"\n",
    "STATIONS=\"https://api.jcdecaux.com/vls/v1/stations/\"\n",
    "\n",
    "def write_to_file(text):\n",
    "    date_underscores = \"{:%Y_%m_%d_%H_%M_%S}\".format(datetime.datetime.now())\n",
    "    with open(r\"data\\bikes_{}\".format(date_underscores).replace(\" \", \"_\"), \"w\") as f:\n",
    "        f.write(text)\n",
    "\n",
    "def stations_to_db(text):\n",
    "    stations = json.loads(text)\n",
    "    print(type(stations), len(stations))\n",
    "    for station in stations:\n",
    "        print(station)\n",
    "        vals = (station.get(\"address\"),int(station.get(\"banking\")), int(station.get(\"bike_stands\")), int(station.get(\"bonus\")),station.get(\"contract_name\"), station.get(\"name\"), station.get(\"number\"), station.get(\"position\").get(\"lat\"), station.get(\"position\").get(\"lng\"), station.get(\"status\"))\n",
    "        engine.execute(\"INSERT INTO `dublin_bikes`.`station` values(%s,%s,%s,%s,%s,%s,%s,%s,%s,%s)\", vals)\n",
    "    return\n",
    "\n",
    "def availability_to_db(text):\n",
    "    stations = json.loads(text)\n",
    "    #print(availability)\n",
    "    for station in stations:\n",
    "        #print(station.get(\"name\"))\n",
    "        #print(station.get(\"number\"))\n",
    "        #print(station.get(\"available_bikes\"))\n",
    "        #print(station.get(\"available_bike_stands\"))\n",
    "        #print(station.get(\"last_update\"))\n",
    "        vals = (int(station.get(\"number\")), int(station.get(\"available_bikes\")), int(station.get(\"available_bike_stands\")), int(station.get(\"last_update\")))\n",
    "        engine.execute(\"INSERT INTO `dublin_bikes`.`availability` values(%s,%s,%s,%s)\", vals)\n",
    "    return\n",
    "        \n",
    "                                            \n",
    "def main():\n",
    "    print(os.path)\n",
    "    while True:\n",
    "        try:\n",
    "            now = datetime.datetime.now()\n",
    "            r = requests.get(STATIONS, params={\"apiKey\": APIKEY, \"contract\" : NAME})\n",
    "            print(r, now)\n",
    "            write_to_file(r.text)\n",
    "            stations_to_db(r.text)\n",
    "            availability_to_db(r.text)\n",
    "            time.sleep(5*60)\n",
    "        except:\n",
    "            print(traceback.format_exc())\n",
    "            #if engine is None:\n",
    "                #pass\n",
    "        return\n",
    "\n",
    "if __name__== \"__main__\":\n",
    "    main()"
   ]
  },
  {
   "cell_type": "code",
   "execution_count": null,
   "id": "determined-programmer",
   "metadata": {},
   "outputs": [],
   "source": [
    "NAME=\"Dublin\"\n",
    "STATIONS=\"https://api.jcdecaux.com/vls/v1/stations\"\n",
    "r = requests.get(STATIONS, params={\"contract\" : NAME, \"apiKey\": APIKEY})"
   ]
  },
  {
   "cell_type": "code",
   "execution_count": null,
   "id": "packed-probability",
   "metadata": {},
   "outputs": [],
   "source": [
    "def availability_to_db(text):\n",
    "    stations = json.loads(text)\n",
    "    #print(availability)\n",
    "    for station in stations:\n",
    "        #print(station.get(\"name\"))\n",
    "        #print(station.get(\"number\"))\n",
    "        #print(station.get(\"available_bikes\"))\n",
    "        #print(station.get(\"available_bike_stands\"))\n",
    "        #print(station.get(\"last_update\"))\n",
    "        vals = (int(station.get(\"number\")), int(station.get(\"available_bikes\")), int(station.get(\"available_bike_stands\")), int(station.get(\"last_update\")))\n",
    "        engine.execute(\"INSERT INTO `dublin_bikes`.`availability` values(%s,%s,%s,%s)\", vals)\n",
    "    return\n",
    "        "
   ]
  },
  {
   "cell_type": "code",
   "execution_count": null,
   "id": "tracked-burning",
   "metadata": {},
   "outputs": [],
   "source": [
    "# just testing out function works here\n",
    "availability_to_db(r.text)"
   ]
  },
  {
   "cell_type": "code",
   "execution_count": null,
   "id": "contained-advocacy",
   "metadata": {},
   "outputs": [],
   "source": []
  }
 ],
 "metadata": {
  "kernelspec": {
   "display_name": "Python (MyDublinBikes)",
   "language": "python",
   "name": "mydublinbikes"
  },
  "language_info": {
   "codemirror_mode": {
    "name": "ipython",
    "version": 3
   },
   "file_extension": ".py",
   "mimetype": "text/x-python",
   "name": "python",
   "nbconvert_exporter": "python",
   "pygments_lexer": "ipython3",
   "version": "3.9.1"
  }
 },
 "nbformat": 4,
 "nbformat_minor": 5
}
