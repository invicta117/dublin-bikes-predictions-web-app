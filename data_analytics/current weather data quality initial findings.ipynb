{
 "cells": [
  {
   "cell_type": "code",
   "execution_count": 9,
   "metadata": {},
   "outputs": [],
   "source": [
    "from sqlalchemy import create_engine\n",
    "import api_keys\n",
    "import pandas as pd\n",
    "import matplotlib.pyplot as plt\n",
    "import numpy as np"
   ]
  },
  {
   "cell_type": "code",
   "execution_count": 48,
   "metadata": {},
   "outputs": [
    {
     "name": "stdout",
     "output_type": "stream",
     "text": [
      "2021-03-20 14:21:42,170 INFO sqlalchemy.engine.base.Engine SHOW VARIABLES LIKE 'sql_mode'\n",
      "2021-03-20 14:21:42,181 INFO sqlalchemy.engine.base.Engine {}\n",
      "2021-03-20 14:21:42,300 INFO sqlalchemy.engine.base.Engine SHOW VARIABLES LIKE 'lower_case_table_names'\n",
      "2021-03-20 14:21:42,300 INFO sqlalchemy.engine.base.Engine {}\n",
      "2021-03-20 14:21:42,533 INFO sqlalchemy.engine.base.Engine SELECT DATABASE()\n",
      "2021-03-20 14:21:42,548 INFO sqlalchemy.engine.base.Engine {}\n",
      "2021-03-20 14:21:42,781 INFO sqlalchemy.engine.base.Engine show collation where `Charset` = 'utf8mb4' and `Collation` = 'utf8mb4_bin'\n",
      "2021-03-20 14:21:42,781 INFO sqlalchemy.engine.base.Engine {}\n",
      "2021-03-20 14:21:42,903 INFO sqlalchemy.engine.base.Engine SELECT CAST('test plain returns' AS CHAR(60)) AS anon_1\n",
      "2021-03-20 14:21:42,903 INFO sqlalchemy.engine.base.Engine {}\n",
      "2021-03-20 14:21:43,034 INFO sqlalchemy.engine.base.Engine SELECT CAST('test unicode returns' AS CHAR(60)) AS anon_1\n",
      "2021-03-20 14:21:43,034 INFO sqlalchemy.engine.base.Engine {}\n",
      "2021-03-20 14:21:43,147 INFO sqlalchemy.engine.base.Engine SELECT CAST('test collated returns' AS CHAR CHARACTER SET utf8mb4) COLLATE utf8mb4_bin AS anon_1\n",
      "2021-03-20 14:21:43,147 INFO sqlalchemy.engine.base.Engine {}\n"
     ]
    }
   ],
   "source": [
    "DB_USER = api_keys.DB_USER\n",
    "DB_PASS = api_keys.DB_PASS\n",
    "DB_URL = api_keys.DB_URL\n",
    "\n",
    "engine = create_engine(\"mysql+pymysql://{0}:{1}@{2}\".format(DB_USER, DB_PASS, DB_URL), echo=True) \n",
    "connection = engine.connect()\n",
    "\n",
    "statement = \"\"\"SELECT * FROM dublin_bikes.weather_current\n",
    "                    order by time_queried desc\n",
    "                    limit 109;\"\"\" # create select statement for stations table"
   ]
  },
  {
   "cell_type": "code",
   "execution_count": 49,
   "metadata": {},
   "outputs": [
    {
     "name": "stdout",
     "output_type": "stream",
     "text": [
      "2021-03-20 14:21:44,789 INFO sqlalchemy.engine.base.Engine SELECT * FROM dublin_bikes.weather_current\n",
      "                    order by time_queried desc\n",
      "                    limit 109;\n",
      "2021-03-20 14:21:44,789 INFO sqlalchemy.engine.base.Engine {}\n"
     ]
    }
   ],
   "source": [
    "df = pd.read_sql_query(statement, engine) # https://stackoverflow.com/questions/29525808/sqlalchemy-orm-conversion-to-pandas-dataframe"
   ]
  },
  {
   "cell_type": "code",
   "execution_count": 50,
   "metadata": {},
   "outputs": [
    {
     "data": {
      "text/plain": [
       "(109, 12)"
      ]
     },
     "execution_count": 50,
     "metadata": {},
     "output_type": "execute_result"
    }
   ],
   "source": [
    "df.shape"
   ]
  },
  {
   "cell_type": "code",
   "execution_count": 51,
   "metadata": {},
   "outputs": [
    {
     "data": {
      "text/html": [
       "<div>\n",
       "<style scoped>\n",
       "    .dataframe tbody tr th:only-of-type {\n",
       "        vertical-align: middle;\n",
       "    }\n",
       "\n",
       "    .dataframe tbody tr th {\n",
       "        vertical-align: top;\n",
       "    }\n",
       "\n",
       "    .dataframe thead th {\n",
       "        text-align: right;\n",
       "    }\n",
       "</style>\n",
       "<table border=\"1\" class=\"dataframe\">\n",
       "  <thead>\n",
       "    <tr style=\"text-align: right;\">\n",
       "      <th></th>\n",
       "      <th>station_number</th>\n",
       "      <th>time_queried</th>\n",
       "      <th>last_update</th>\n",
       "      <th>temp</th>\n",
       "      <th>feels_like</th>\n",
       "      <th>pressure</th>\n",
       "      <th>humidity</th>\n",
       "      <th>visibility</th>\n",
       "      <th>wind_speed</th>\n",
       "      <th>wind_deg</th>\n",
       "      <th>weather_main</th>\n",
       "      <th>weather_description</th>\n",
       "    </tr>\n",
       "  </thead>\n",
       "  <tbody>\n",
       "    <tr>\n",
       "      <th>0</th>\n",
       "      <td>92</td>\n",
       "      <td>2021-03-20 14:19:47</td>\n",
       "      <td>2021-03-20 14:19:37</td>\n",
       "      <td>285</td>\n",
       "      <td>281</td>\n",
       "      <td>1033</td>\n",
       "      <td>None</td>\n",
       "      <td>10000</td>\n",
       "      <td>5</td>\n",
       "      <td>300</td>\n",
       "      <td>Clouds</td>\n",
       "      <td>broken clouds</td>\n",
       "    </tr>\n",
       "    <tr>\n",
       "      <th>1</th>\n",
       "      <td>88</td>\n",
       "      <td>2021-03-20 14:19:47</td>\n",
       "      <td>2021-03-20 14:19:44</td>\n",
       "      <td>285</td>\n",
       "      <td>281</td>\n",
       "      <td>1033</td>\n",
       "      <td>None</td>\n",
       "      <td>10000</td>\n",
       "      <td>5</td>\n",
       "      <td>300</td>\n",
       "      <td>Clouds</td>\n",
       "      <td>broken clouds</td>\n",
       "    </tr>\n",
       "    <tr>\n",
       "      <th>2</th>\n",
       "      <td>21</td>\n",
       "      <td>2021-03-20 14:19:47</td>\n",
       "      <td>2021-03-20 14:19:35</td>\n",
       "      <td>285</td>\n",
       "      <td>281</td>\n",
       "      <td>1033</td>\n",
       "      <td>None</td>\n",
       "      <td>10000</td>\n",
       "      <td>5</td>\n",
       "      <td>300</td>\n",
       "      <td>Clouds</td>\n",
       "      <td>broken clouds</td>\n",
       "    </tr>\n",
       "    <tr>\n",
       "      <th>3</th>\n",
       "      <td>39</td>\n",
       "      <td>2021-03-20 14:19:47</td>\n",
       "      <td>2021-03-20 14:19:39</td>\n",
       "      <td>285</td>\n",
       "      <td>281</td>\n",
       "      <td>1033</td>\n",
       "      <td>None</td>\n",
       "      <td>10000</td>\n",
       "      <td>5</td>\n",
       "      <td>300</td>\n",
       "      <td>Clouds</td>\n",
       "      <td>broken clouds</td>\n",
       "    </tr>\n",
       "    <tr>\n",
       "      <th>4</th>\n",
       "      <td>83</td>\n",
       "      <td>2021-03-20 14:19:47</td>\n",
       "      <td>2021-03-20 14:19:41</td>\n",
       "      <td>285</td>\n",
       "      <td>281</td>\n",
       "      <td>1033</td>\n",
       "      <td>None</td>\n",
       "      <td>10000</td>\n",
       "      <td>5</td>\n",
       "      <td>300</td>\n",
       "      <td>Clouds</td>\n",
       "      <td>broken clouds</td>\n",
       "    </tr>\n",
       "  </tbody>\n",
       "</table>\n",
       "</div>"
      ],
      "text/plain": [
       "   station_number        time_queried         last_update  temp  feels_like  \\\n",
       "0              92 2021-03-20 14:19:47 2021-03-20 14:19:37   285         281   \n",
       "1              88 2021-03-20 14:19:47 2021-03-20 14:19:44   285         281   \n",
       "2              21 2021-03-20 14:19:47 2021-03-20 14:19:35   285         281   \n",
       "3              39 2021-03-20 14:19:47 2021-03-20 14:19:39   285         281   \n",
       "4              83 2021-03-20 14:19:47 2021-03-20 14:19:41   285         281   \n",
       "\n",
       "   pressure humidity  visibility  wind_speed  wind_deg weather_main  \\\n",
       "0      1033     None       10000           5       300       Clouds   \n",
       "1      1033     None       10000           5       300       Clouds   \n",
       "2      1033     None       10000           5       300       Clouds   \n",
       "3      1033     None       10000           5       300       Clouds   \n",
       "4      1033     None       10000           5       300       Clouds   \n",
       "\n",
       "  weather_description  \n",
       "0       broken clouds  \n",
       "1       broken clouds  \n",
       "2       broken clouds  \n",
       "3       broken clouds  \n",
       "4       broken clouds  "
      ]
     },
     "execution_count": 51,
     "metadata": {},
     "output_type": "execute_result"
    }
   ],
   "source": [
    "df.head(5)"
   ]
  },
  {
   "cell_type": "code",
   "execution_count": 52,
   "metadata": {},
   "outputs": [
    {
     "data": {
      "text/html": [
       "<div>\n",
       "<style scoped>\n",
       "    .dataframe tbody tr th:only-of-type {\n",
       "        vertical-align: middle;\n",
       "    }\n",
       "\n",
       "    .dataframe tbody tr th {\n",
       "        vertical-align: top;\n",
       "    }\n",
       "\n",
       "    .dataframe thead th {\n",
       "        text-align: right;\n",
       "    }\n",
       "</style>\n",
       "<table border=\"1\" class=\"dataframe\">\n",
       "  <thead>\n",
       "    <tr style=\"text-align: right;\">\n",
       "      <th></th>\n",
       "      <th>station_number</th>\n",
       "      <th>time_queried</th>\n",
       "      <th>last_update</th>\n",
       "      <th>temp</th>\n",
       "      <th>feels_like</th>\n",
       "      <th>pressure</th>\n",
       "      <th>humidity</th>\n",
       "      <th>visibility</th>\n",
       "      <th>wind_speed</th>\n",
       "      <th>wind_deg</th>\n",
       "      <th>weather_main</th>\n",
       "      <th>weather_description</th>\n",
       "    </tr>\n",
       "  </thead>\n",
       "  <tbody>\n",
       "    <tr>\n",
       "      <th>104</th>\n",
       "      <td>56</td>\n",
       "      <td>2021-03-20 14:19:34</td>\n",
       "      <td>2021-03-20 14:19:34</td>\n",
       "      <td>285</td>\n",
       "      <td>281</td>\n",
       "      <td>1033</td>\n",
       "      <td>None</td>\n",
       "      <td>10000</td>\n",
       "      <td>5</td>\n",
       "      <td>300</td>\n",
       "      <td>Clouds</td>\n",
       "      <td>broken clouds</td>\n",
       "    </tr>\n",
       "    <tr>\n",
       "      <th>105</th>\n",
       "      <td>108</td>\n",
       "      <td>2021-03-20 14:19:34</td>\n",
       "      <td>2021-03-20 14:19:33</td>\n",
       "      <td>285</td>\n",
       "      <td>281</td>\n",
       "      <td>1033</td>\n",
       "      <td>None</td>\n",
       "      <td>10000</td>\n",
       "      <td>5</td>\n",
       "      <td>300</td>\n",
       "      <td>Clouds</td>\n",
       "      <td>broken clouds</td>\n",
       "    </tr>\n",
       "    <tr>\n",
       "      <th>106</th>\n",
       "      <td>54</td>\n",
       "      <td>2021-03-20 14:19:33</td>\n",
       "      <td>2021-03-20 14:19:10</td>\n",
       "      <td>285</td>\n",
       "      <td>281</td>\n",
       "      <td>1033</td>\n",
       "      <td>None</td>\n",
       "      <td>10000</td>\n",
       "      <td>5</td>\n",
       "      <td>300</td>\n",
       "      <td>Clouds</td>\n",
       "      <td>broken clouds</td>\n",
       "    </tr>\n",
       "    <tr>\n",
       "      <th>107</th>\n",
       "      <td>42</td>\n",
       "      <td>2021-03-20 14:19:33</td>\n",
       "      <td>2021-03-20 14:19:32</td>\n",
       "      <td>285</td>\n",
       "      <td>281</td>\n",
       "      <td>1033</td>\n",
       "      <td>None</td>\n",
       "      <td>10000</td>\n",
       "      <td>5</td>\n",
       "      <td>300</td>\n",
       "      <td>Clouds</td>\n",
       "      <td>broken clouds</td>\n",
       "    </tr>\n",
       "    <tr>\n",
       "      <th>108</th>\n",
       "      <td>30</td>\n",
       "      <td>2021-03-20 14:19:33</td>\n",
       "      <td>2021-03-20 14:19:33</td>\n",
       "      <td>285</td>\n",
       "      <td>281</td>\n",
       "      <td>1033</td>\n",
       "      <td>None</td>\n",
       "      <td>10000</td>\n",
       "      <td>5</td>\n",
       "      <td>300</td>\n",
       "      <td>Clouds</td>\n",
       "      <td>broken clouds</td>\n",
       "    </tr>\n",
       "  </tbody>\n",
       "</table>\n",
       "</div>"
      ],
      "text/plain": [
       "     station_number        time_queried         last_update  temp  feels_like  \\\n",
       "104              56 2021-03-20 14:19:34 2021-03-20 14:19:34   285         281   \n",
       "105             108 2021-03-20 14:19:34 2021-03-20 14:19:33   285         281   \n",
       "106              54 2021-03-20 14:19:33 2021-03-20 14:19:10   285         281   \n",
       "107              42 2021-03-20 14:19:33 2021-03-20 14:19:32   285         281   \n",
       "108              30 2021-03-20 14:19:33 2021-03-20 14:19:33   285         281   \n",
       "\n",
       "     pressure humidity  visibility  wind_speed  wind_deg weather_main  \\\n",
       "104      1033     None       10000           5       300       Clouds   \n",
       "105      1033     None       10000           5       300       Clouds   \n",
       "106      1033     None       10000           5       300       Clouds   \n",
       "107      1033     None       10000           5       300       Clouds   \n",
       "108      1033     None       10000           5       300       Clouds   \n",
       "\n",
       "    weather_description  \n",
       "104       broken clouds  \n",
       "105       broken clouds  \n",
       "106       broken clouds  \n",
       "107       broken clouds  \n",
       "108       broken clouds  "
      ]
     },
     "execution_count": 52,
     "metadata": {},
     "output_type": "execute_result"
    }
   ],
   "source": [
    "df.tail(5)"
   ]
  },
  {
   "cell_type": "code",
   "execution_count": null,
   "metadata": {},
   "outputs": [],
   "source": [
    "# the following notebook is based off material presented in Data Analytics module COMP47350 labs 7 and 9"
   ]
  },
  {
   "cell_type": "code",
   "execution_count": 53,
   "metadata": {},
   "outputs": [
    {
     "data": {
      "text/plain": [
       "station_number                  int64\n",
       "time_queried           datetime64[ns]\n",
       "last_update            datetime64[ns]\n",
       "temp                            int64\n",
       "feels_like                      int64\n",
       "pressure                        int64\n",
       "humidity                       object\n",
       "visibility                      int64\n",
       "wind_speed                      int64\n",
       "wind_deg                        int64\n",
       "weather_main                   object\n",
       "weather_description            object\n",
       "dtype: object"
      ]
     },
     "execution_count": 53,
     "metadata": {},
     "output_type": "execute_result"
    }
   ],
   "source": [
    "df.dtypes"
   ]
  },
  {
   "cell_type": "code",
   "execution_count": 54,
   "metadata": {},
   "outputs": [
    {
     "data": {
      "text/plain": [
       "0      0\n",
       "1      0\n",
       "2      0\n",
       "3      0\n",
       "4      0\n",
       "      ..\n",
       "104    0\n",
       "105    0\n",
       "106    0\n",
       "107    0\n",
       "108    0\n",
       "Name: humidity, Length: 109, dtype: int64"
      ]
     },
     "execution_count": 54,
     "metadata": {},
     "output_type": "execute_result"
    }
   ],
   "source": [
    "df[\"humidity\"].fillna(0)"
   ]
  },
  {
   "cell_type": "code",
   "execution_count": 55,
   "metadata": {},
   "outputs": [
    {
     "data": {
      "text/plain": [
       "station_number               category\n",
       "time_queried           datetime64[ns]\n",
       "last_update            datetime64[ns]\n",
       "temp                            int64\n",
       "feels_like                      int64\n",
       "pressure                        int64\n",
       "humidity                        int64\n",
       "visibility                      int64\n",
       "wind_speed                      int64\n",
       "wind_deg                        int64\n",
       "weather_main                 category\n",
       "weather_description          category\n",
       "dtype: object"
      ]
     },
     "execution_count": 55,
     "metadata": {},
     "output_type": "execute_result"
    }
   ],
   "source": [
    "categorical_columns = df[['station_number','weather_main', 'weather_description']].columns\n",
    "# Convert data type to category for these columns\n",
    "for column in categorical_columns:\n",
    "    df[column] = df[column].astype('category') \n",
    "df[\"humidity\"] = df[\"humidity\"].fillna(0)\n",
    "df[\"humidity\"] = df[\"humidity\"].astype('int64')  \n",
    "continuous_columns = df.select_dtypes(['int64']).columns\n",
    "datetime_columns = df.select_dtypes(['datetime64[ns]']).columns\n",
    "\n",
    "df.dtypes"
   ]
  },
  {
   "cell_type": "code",
   "execution_count": 56,
   "metadata": {},
   "outputs": [
    {
     "name": "stdout",
     "output_type": "stream",
     "text": [
      "Number of duplicate (excluding first) rows in the table is:  0\n",
      "Number of duplicate rows (including first) in the table is: 0\n"
     ]
    }
   ],
   "source": [
    "#Print the number of duplicates, without the original rows that were duplicated\n",
    "print('Number of duplicate (excluding first) rows in the table is: ', df.duplicated().sum())\n",
    "\n",
    "# Check for duplicate rows. \n",
    "# Use \"keep=False\" to mark all duplicates as true, including the original rows that were duplicated.\n",
    "print('Number of duplicate rows (including first) in the table is:', df[df.duplicated(keep=False)].shape[0])"
   ]
  },
  {
   "cell_type": "code",
   "execution_count": 57,
   "metadata": {},
   "outputs": [
    {
     "name": "stdout",
     "output_type": "stream",
     "text": [
      "Number of duplicate (excluding first) columns in the table is:  0\n",
      "Number of duplicate (including first) columns in the table is:  0\n"
     ]
    }
   ],
   "source": [
    "# Check for duplicate columns\n",
    "#First transpose the df so columns become rows, then apply the same check as above\n",
    "dfT = df.T\n",
    "print(\"Number of duplicate (excluding first) columns in the table is: \", dfT.duplicated().sum())\n",
    "print(\"Number of duplicate (including first) columns in the table is: \",  dfT[dfT.duplicated(keep=False)].shape[0])"
   ]
  },
  {
   "cell_type": "markdown",
   "metadata": {},
   "source": [
    "# no duplicate rows or columns"
   ]
  },
  {
   "cell_type": "code",
   "execution_count": 58,
   "metadata": {},
   "outputs": [
    {
     "data": {
      "text/html": [
       "<div>\n",
       "<style scoped>\n",
       "    .dataframe tbody tr th:only-of-type {\n",
       "        vertical-align: middle;\n",
       "    }\n",
       "\n",
       "    .dataframe tbody tr th {\n",
       "        vertical-align: top;\n",
       "    }\n",
       "\n",
       "    .dataframe thead th {\n",
       "        text-align: right;\n",
       "    }\n",
       "</style>\n",
       "<table border=\"1\" class=\"dataframe\">\n",
       "  <thead>\n",
       "    <tr style=\"text-align: right;\">\n",
       "      <th></th>\n",
       "      <th>count</th>\n",
       "      <th>unique</th>\n",
       "      <th>top</th>\n",
       "      <th>freq</th>\n",
       "    </tr>\n",
       "  </thead>\n",
       "  <tbody>\n",
       "    <tr>\n",
       "      <th>station_number</th>\n",
       "      <td>109</td>\n",
       "      <td>109</td>\n",
       "      <td>117</td>\n",
       "      <td>1</td>\n",
       "    </tr>\n",
       "    <tr>\n",
       "      <th>weather_main</th>\n",
       "      <td>109</td>\n",
       "      <td>1</td>\n",
       "      <td>Clouds</td>\n",
       "      <td>109</td>\n",
       "    </tr>\n",
       "    <tr>\n",
       "      <th>weather_description</th>\n",
       "      <td>109</td>\n",
       "      <td>1</td>\n",
       "      <td>broken clouds</td>\n",
       "      <td>109</td>\n",
       "    </tr>\n",
       "  </tbody>\n",
       "</table>\n",
       "</div>"
      ],
      "text/plain": [
       "                    count unique            top freq\n",
       "station_number        109    109            117    1\n",
       "weather_main          109      1         Clouds  109\n",
       "weather_description   109      1  broken clouds  109"
      ]
     },
     "execution_count": 58,
     "metadata": {},
     "output_type": "execute_result"
    }
   ],
   "source": [
    "df.select_dtypes(['category']).describe().T"
   ]
  },
  {
   "cell_type": "markdown",
   "metadata": {},
   "source": [
    "# station_status is constant column"
   ]
  },
  {
   "cell_type": "code",
   "execution_count": 59,
   "metadata": {},
   "outputs": [
    {
     "data": {
      "text/html": [
       "<div>\n",
       "<style scoped>\n",
       "    .dataframe tbody tr th:only-of-type {\n",
       "        vertical-align: middle;\n",
       "    }\n",
       "\n",
       "    .dataframe tbody tr th {\n",
       "        vertical-align: top;\n",
       "    }\n",
       "\n",
       "    .dataframe thead th {\n",
       "        text-align: right;\n",
       "    }\n",
       "</style>\n",
       "<table border=\"1\" class=\"dataframe\">\n",
       "  <thead>\n",
       "    <tr style=\"text-align: right;\">\n",
       "      <th></th>\n",
       "      <th>count</th>\n",
       "      <th>mean</th>\n",
       "      <th>std</th>\n",
       "      <th>min</th>\n",
       "      <th>25%</th>\n",
       "      <th>50%</th>\n",
       "      <th>75%</th>\n",
       "      <th>max</th>\n",
       "    </tr>\n",
       "  </thead>\n",
       "  <tbody>\n",
       "    <tr>\n",
       "      <th>temp</th>\n",
       "      <td>109.0</td>\n",
       "      <td>285.0</td>\n",
       "      <td>0.0</td>\n",
       "      <td>285.0</td>\n",
       "      <td>285.0</td>\n",
       "      <td>285.0</td>\n",
       "      <td>285.0</td>\n",
       "      <td>285.0</td>\n",
       "    </tr>\n",
       "    <tr>\n",
       "      <th>feels_like</th>\n",
       "      <td>109.0</td>\n",
       "      <td>281.0</td>\n",
       "      <td>0.0</td>\n",
       "      <td>281.0</td>\n",
       "      <td>281.0</td>\n",
       "      <td>281.0</td>\n",
       "      <td>281.0</td>\n",
       "      <td>281.0</td>\n",
       "    </tr>\n",
       "    <tr>\n",
       "      <th>pressure</th>\n",
       "      <td>109.0</td>\n",
       "      <td>1033.0</td>\n",
       "      <td>0.0</td>\n",
       "      <td>1033.0</td>\n",
       "      <td>1033.0</td>\n",
       "      <td>1033.0</td>\n",
       "      <td>1033.0</td>\n",
       "      <td>1033.0</td>\n",
       "    </tr>\n",
       "    <tr>\n",
       "      <th>humidity</th>\n",
       "      <td>109.0</td>\n",
       "      <td>0.0</td>\n",
       "      <td>0.0</td>\n",
       "      <td>0.0</td>\n",
       "      <td>0.0</td>\n",
       "      <td>0.0</td>\n",
       "      <td>0.0</td>\n",
       "      <td>0.0</td>\n",
       "    </tr>\n",
       "    <tr>\n",
       "      <th>visibility</th>\n",
       "      <td>109.0</td>\n",
       "      <td>10000.0</td>\n",
       "      <td>0.0</td>\n",
       "      <td>10000.0</td>\n",
       "      <td>10000.0</td>\n",
       "      <td>10000.0</td>\n",
       "      <td>10000.0</td>\n",
       "      <td>10000.0</td>\n",
       "    </tr>\n",
       "    <tr>\n",
       "      <th>wind_speed</th>\n",
       "      <td>109.0</td>\n",
       "      <td>5.0</td>\n",
       "      <td>0.0</td>\n",
       "      <td>5.0</td>\n",
       "      <td>5.0</td>\n",
       "      <td>5.0</td>\n",
       "      <td>5.0</td>\n",
       "      <td>5.0</td>\n",
       "    </tr>\n",
       "    <tr>\n",
       "      <th>wind_deg</th>\n",
       "      <td>109.0</td>\n",
       "      <td>300.0</td>\n",
       "      <td>0.0</td>\n",
       "      <td>300.0</td>\n",
       "      <td>300.0</td>\n",
       "      <td>300.0</td>\n",
       "      <td>300.0</td>\n",
       "      <td>300.0</td>\n",
       "    </tr>\n",
       "  </tbody>\n",
       "</table>\n",
       "</div>"
      ],
      "text/plain": [
       "            count     mean  std      min      25%      50%      75%      max\n",
       "temp        109.0    285.0  0.0    285.0    285.0    285.0    285.0    285.0\n",
       "feels_like  109.0    281.0  0.0    281.0    281.0    281.0    281.0    281.0\n",
       "pressure    109.0   1033.0  0.0   1033.0   1033.0   1033.0   1033.0   1033.0\n",
       "humidity    109.0      0.0  0.0      0.0      0.0      0.0      0.0      0.0\n",
       "visibility  109.0  10000.0  0.0  10000.0  10000.0  10000.0  10000.0  10000.0\n",
       "wind_speed  109.0      5.0  0.0      5.0      5.0      5.0      5.0      5.0\n",
       "wind_deg    109.0    300.0  0.0    300.0    300.0    300.0    300.0    300.0"
      ]
     },
     "execution_count": 59,
     "metadata": {},
     "output_type": "execute_result"
    }
   ],
   "source": [
    "df.select_dtypes(include=['int64']).describe().T"
   ]
  },
  {
   "cell_type": "code",
   "execution_count": 60,
   "metadata": {},
   "outputs": [
    {
     "data": {
      "text/html": [
       "<div>\n",
       "<style scoped>\n",
       "    .dataframe tbody tr th:only-of-type {\n",
       "        vertical-align: middle;\n",
       "    }\n",
       "\n",
       "    .dataframe tbody tr th {\n",
       "        vertical-align: top;\n",
       "    }\n",
       "\n",
       "    .dataframe thead th {\n",
       "        text-align: right;\n",
       "    }\n",
       "</style>\n",
       "<table border=\"1\" class=\"dataframe\">\n",
       "  <thead>\n",
       "    <tr style=\"text-align: right;\">\n",
       "      <th></th>\n",
       "      <th>count</th>\n",
       "      <th>unique</th>\n",
       "      <th>top</th>\n",
       "      <th>freq</th>\n",
       "      <th>first</th>\n",
       "      <th>last</th>\n",
       "    </tr>\n",
       "  </thead>\n",
       "  <tbody>\n",
       "    <tr>\n",
       "      <th>time_queried</th>\n",
       "      <td>109</td>\n",
       "      <td>15</td>\n",
       "      <td>2021-03-20 14:19:46</td>\n",
       "      <td>18</td>\n",
       "      <td>2021-03-20 14:19:33</td>\n",
       "      <td>2021-03-20 14:19:47</td>\n",
       "    </tr>\n",
       "    <tr>\n",
       "      <th>last_update</th>\n",
       "      <td>109</td>\n",
       "      <td>13</td>\n",
       "      <td>2021-03-20 14:19:33</td>\n",
       "      <td>15</td>\n",
       "      <td>2021-03-20 14:19:10</td>\n",
       "      <td>2021-03-20 14:19:44</td>\n",
       "    </tr>\n",
       "  </tbody>\n",
       "</table>\n",
       "</div>"
      ],
      "text/plain": [
       "             count unique                 top freq               first  \\\n",
       "time_queried   109     15 2021-03-20 14:19:46   18 2021-03-20 14:19:33   \n",
       "last_update    109     13 2021-03-20 14:19:33   15 2021-03-20 14:19:10   \n",
       "\n",
       "                            last  \n",
       "time_queried 2021-03-20 14:19:47  \n",
       "last_update  2021-03-20 14:19:44  "
      ]
     },
     "execution_count": 60,
     "metadata": {},
     "output_type": "execute_result"
    }
   ],
   "source": [
    "df.select_dtypes(include=['datetime64[ns]']).describe().T"
   ]
  },
  {
   "cell_type": "code",
   "execution_count": 61,
   "metadata": {},
   "outputs": [
    {
     "data": {
      "text/plain": [
       "station_number         0\n",
       "time_queried           0\n",
       "last_update            0\n",
       "temp                   0\n",
       "feels_like             0\n",
       "pressure               0\n",
       "humidity               0\n",
       "visibility             0\n",
       "wind_speed             0\n",
       "wind_deg               0\n",
       "weather_main           0\n",
       "weather_description    0\n",
       "dtype: int64"
      ]
     },
     "execution_count": 61,
     "metadata": {},
     "output_type": "execute_result"
    }
   ],
   "source": [
    "df.isnull().sum()"
   ]
  },
  {
   "cell_type": "markdown",
   "metadata": {},
   "source": [
    "# logical integrity"
   ]
  },
  {
   "cell_type": "code",
   "execution_count": 62,
   "metadata": {},
   "outputs": [
    {
     "name": "stdout",
     "output_type": "stream",
     "text": [
      "Number of rows failing the test:  0\n"
     ]
    },
    {
     "data": {
      "text/html": [
       "<div>\n",
       "<style scoped>\n",
       "    .dataframe tbody tr th:only-of-type {\n",
       "        vertical-align: middle;\n",
       "    }\n",
       "\n",
       "    .dataframe tbody tr th {\n",
       "        vertical-align: top;\n",
       "    }\n",
       "\n",
       "    .dataframe thead th {\n",
       "        text-align: right;\n",
       "    }\n",
       "</style>\n",
       "<table border=\"1\" class=\"dataframe\">\n",
       "  <thead>\n",
       "    <tr style=\"text-align: right;\">\n",
       "      <th></th>\n",
       "      <th>time_queried</th>\n",
       "      <th>last_update</th>\n",
       "    </tr>\n",
       "  </thead>\n",
       "  <tbody>\n",
       "  </tbody>\n",
       "</table>\n",
       "</div>"
      ],
      "text/plain": [
       "Empty DataFrame\n",
       "Columns: [time_queried, last_update]\n",
       "Index: []"
      ]
     },
     "execution_count": 62,
     "metadata": {},
     "output_type": "execute_result"
    }
   ],
   "source": [
    "test_1 = df[['time_queried','last_update']][df['time_queried']<df['last_update']]\n",
    "print(\"Number of rows failing the test: \", test_1.shape[0])\n",
    "test_1.head(5)"
   ]
  },
  {
   "cell_type": "code",
   "execution_count": 63,
   "metadata": {},
   "outputs": [
    {
     "data": {
      "text/plain": [
       "array([[<matplotlib.axes._subplots.AxesSubplot object at 0x00000152D55C4CA0>,\n",
       "        <matplotlib.axes._subplots.AxesSubplot object at 0x00000152D54A8130>,\n",
       "        <matplotlib.axes._subplots.AxesSubplot object at 0x00000152D5219880>],\n",
       "       [<matplotlib.axes._subplots.AxesSubplot object at 0x00000152D59C0DC0>,\n",
       "        <matplotlib.axes._subplots.AxesSubplot object at 0x00000152D538F520>,\n",
       "        <matplotlib.axes._subplots.AxesSubplot object at 0x00000152D4C40550>],\n",
       "       [<matplotlib.axes._subplots.AxesSubplot object at 0x00000152D5282E50>,\n",
       "        <matplotlib.axes._subplots.AxesSubplot object at 0x00000152D5A3C820>,\n",
       "        <matplotlib.axes._subplots.AxesSubplot object at 0x00000152D54043D0>]],\n",
       "      dtype=object)"
      ]
     },
     "execution_count": 63,
     "metadata": {},
     "output_type": "execute_result"
    },
    {
     "data": {
      "image/png": "[encoded data removed]",
      "text/plain": [
       "<Figure size 720x720 with 9 Axes>"
      ]
     },
     "metadata": {
      "needs_background": "light"
     },
     "output_type": "display_data"
    }
   ],
   "source": [
    "df[continuous_columns].hist(layout=(3, 3), figsize=(10,10), bins=10)"
   ]
  },
  {
   "cell_type": "code",
   "execution_count": 64,
   "metadata": {},
   "outputs": [
    {
     "data": {
      "text/plain": [
       "temp             AxesSubplot(0.125,0.657941;0.227941x0.222059)\n",
       "feels_like    AxesSubplot(0.398529,0.657941;0.227941x0.222059)\n",
       "pressure      AxesSubplot(0.672059,0.657941;0.227941x0.222059)\n",
       "humidity         AxesSubplot(0.125,0.391471;0.227941x0.222059)\n",
       "visibility    AxesSubplot(0.398529,0.391471;0.227941x0.222059)\n",
       "wind_speed    AxesSubplot(0.672059,0.391471;0.227941x0.222059)\n",
       "wind_deg            AxesSubplot(0.125,0.125;0.227941x0.222059)\n",
       "dtype: object"
      ]
     },
     "execution_count": 64,
     "metadata": {},
     "output_type": "execute_result"
    },
    {
     "data": {
      "image/png": "[encoded data removed]",
      "text/plain": [
       "<Figure size 720x360 with 9 Axes>"
      ]
     },
     "metadata": {
      "needs_background": "light"
     },
     "output_type": "display_data"
    }
   ],
   "source": [
    "df[continuous_columns].plot(kind='box', subplots=True, figsize=(10,5), layout=(3,3), sharex=False, sharey=False)"
   ]
  },
  {
   "cell_type": "code",
   "execution_count": 65,
   "metadata": {},
   "outputs": [
    {
     "data": {
      "text/plain": [
       "<matplotlib.axes._subplots.AxesSubplot at 0x152d54647c0>"
      ]
     },
     "execution_count": 65,
     "metadata": {},
     "output_type": "execute_result"
    },
    {
     "data": {
      "image/png": "[encoded data removed]",
      "text/plain": [
       "<Figure size 432x288 with 1 Axes>"
      ]
     },
     "metadata": {
      "needs_background": "light"
     },
     "output_type": "display_data"
    }
   ],
   "source": [
    "df[datetime_columns].plot()"
   ]
  },
  {
   "cell_type": "code",
   "execution_count": 66,
   "metadata": {},
   "outputs": [
    {
     "name": "stdout",
     "output_type": "stream",
     "text": [
      "time_queried\n"
     ]
    },
    {
     "data": {
      "text/plain": [
       "<matplotlib.axes._subplots.AxesSubplot at 0x152d53851c0>"
      ]
     },
     "execution_count": 66,
     "metadata": {},
     "output_type": "execute_result"
    },
    {
     "data": {
      "image/png": "[encoded data removed]",
      "text/plain": [
       "<Figure size 432x288 with 1 Axes>"
      ]
     },
     "metadata": {
      "needs_background": "light"
     },
     "output_type": "display_data"
    }
   ],
   "source": [
    "print(datetime_columns[0])\n",
    "df[datetime_columns[0]].hist()"
   ]
  },
  {
   "cell_type": "code",
   "execution_count": 67,
   "metadata": {},
   "outputs": [
    {
     "name": "stdout",
     "output_type": "stream",
     "text": [
      "last_update\n"
     ]
    },
    {
     "data": {
      "text/plain": [
       "<matplotlib.axes._subplots.AxesSubplot at 0x152d562e730>"
      ]
     },
     "execution_count": 67,
     "metadata": {},
     "output_type": "execute_result"
    },
    {
     "data": {
      "image/png": "[encoded data removed]",
      "text/plain": [
       "<Figure size 432x288 with 1 Axes>"
      ]
     },
     "metadata": {
      "needs_background": "light"
     },
     "output_type": "display_data"
    }
   ],
   "source": [
    "print(datetime_columns[1])\n",
    "df[datetime_columns[1]].hist()"
   ]
  },
  {
   "cell_type": "code",
   "execution_count": 68,
   "metadata": {
    "scrolled": false
   },
   "outputs": [
    {
     "data": {
      "image/png": "[encoded data removed]",
      "text/plain": [
       "<Figure size 864x720 with 1 Axes>"
      ]
     },
     "metadata": {
      "needs_background": "light"
     },
     "output_type": "display_data"
    },
    {
     "data": {
      "image/png": "[encoded data removed]",
      "text/plain": [
       "<Figure size 864x720 with 1 Axes>"
      ]
     },
     "metadata": {
      "needs_background": "light"
     },
     "output_type": "display_data"
    },
    {
     "data": {
      "image/png": "[encoded data removed]",
      "text/plain": [
       "<Figure size 864x720 with 1 Axes>"
      ]
     },
     "metadata": {
      "needs_background": "light"
     },
     "output_type": "display_data"
    }
   ],
   "source": [
    "for col in categorical_columns:\n",
    "    f = df[col].value_counts().plot(kind='bar', figsize=(12,10))\n",
    "    plt.title(col)\n",
    "    plt.ylabel('number of occurances')\n",
    "    plt.show()"
   ]
  },
  {
   "cell_type": "code",
   "execution_count": 69,
   "metadata": {},
   "outputs": [
    {
     "data": {
      "text/plain": [
       "Index(['station_number', 'time_queried', 'last_update', 'temp', 'feels_like',\n",
       "       'pressure', 'humidity', 'visibility', 'wind_speed', 'wind_deg',\n",
       "       'weather_main', 'weather_description'],\n",
       "      dtype='object')"
      ]
     },
     "execution_count": 69,
     "metadata": {},
     "output_type": "execute_result"
    }
   ],
   "source": [
    "df.columns"
   ]
  },
  {
   "cell_type": "code",
   "execution_count": 70,
   "metadata": {},
   "outputs": [
    {
     "data": {
      "text/html": [
       "<div>\n",
       "<style scoped>\n",
       "    .dataframe tbody tr th:only-of-type {\n",
       "        vertical-align: middle;\n",
       "    }\n",
       "\n",
       "    .dataframe tbody tr th {\n",
       "        vertical-align: top;\n",
       "    }\n",
       "\n",
       "    .dataframe thead th {\n",
       "        text-align: right;\n",
       "    }\n",
       "</style>\n",
       "<table border=\"1\" class=\"dataframe\">\n",
       "  <thead>\n",
       "    <tr style=\"text-align: right;\">\n",
       "      <th></th>\n",
       "      <th>temp</th>\n",
       "      <th>feels_like</th>\n",
       "      <th>station_number</th>\n",
       "      <th>time_queried</th>\n",
       "    </tr>\n",
       "  </thead>\n",
       "  <tbody>\n",
       "    <tr>\n",
       "      <th>108</th>\n",
       "      <td>285</td>\n",
       "      <td>281</td>\n",
       "      <td>30</td>\n",
       "      <td>2021-03-20 14:19:33</td>\n",
       "    </tr>\n",
       "    <tr>\n",
       "      <th>107</th>\n",
       "      <td>285</td>\n",
       "      <td>281</td>\n",
       "      <td>42</td>\n",
       "      <td>2021-03-20 14:19:33</td>\n",
       "    </tr>\n",
       "    <tr>\n",
       "      <th>106</th>\n",
       "      <td>285</td>\n",
       "      <td>281</td>\n",
       "      <td>54</td>\n",
       "      <td>2021-03-20 14:19:33</td>\n",
       "    </tr>\n",
       "    <tr>\n",
       "      <th>103</th>\n",
       "      <td>285</td>\n",
       "      <td>281</td>\n",
       "      <td>6</td>\n",
       "      <td>2021-03-20 14:19:34</td>\n",
       "    </tr>\n",
       "    <tr>\n",
       "      <th>105</th>\n",
       "      <td>285</td>\n",
       "      <td>281</td>\n",
       "      <td>108</td>\n",
       "      <td>2021-03-20 14:19:34</td>\n",
       "    </tr>\n",
       "    <tr>\n",
       "      <th>104</th>\n",
       "      <td>285</td>\n",
       "      <td>281</td>\n",
       "      <td>56</td>\n",
       "      <td>2021-03-20 14:19:34</td>\n",
       "    </tr>\n",
       "    <tr>\n",
       "      <th>102</th>\n",
       "      <td>285</td>\n",
       "      <td>281</td>\n",
       "      <td>52</td>\n",
       "      <td>2021-03-20 14:19:35</td>\n",
       "    </tr>\n",
       "    <tr>\n",
       "      <th>101</th>\n",
       "      <td>285</td>\n",
       "      <td>281</td>\n",
       "      <td>18</td>\n",
       "      <td>2021-03-20 14:19:35</td>\n",
       "    </tr>\n",
       "    <tr>\n",
       "      <th>100</th>\n",
       "      <td>285</td>\n",
       "      <td>281</td>\n",
       "      <td>32</td>\n",
       "      <td>2021-03-20 14:19:35</td>\n",
       "    </tr>\n",
       "    <tr>\n",
       "      <th>94</th>\n",
       "      <td>285</td>\n",
       "      <td>281</td>\n",
       "      <td>106</td>\n",
       "      <td>2021-03-20 14:19:36</td>\n",
       "    </tr>\n",
       "    <tr>\n",
       "      <th>95</th>\n",
       "      <td>285</td>\n",
       "      <td>281</td>\n",
       "      <td>31</td>\n",
       "      <td>2021-03-20 14:19:36</td>\n",
       "    </tr>\n",
       "    <tr>\n",
       "      <th>93</th>\n",
       "      <td>285</td>\n",
       "      <td>281</td>\n",
       "      <td>23</td>\n",
       "      <td>2021-03-20 14:19:36</td>\n",
       "    </tr>\n",
       "    <tr>\n",
       "      <th>97</th>\n",
       "      <td>285</td>\n",
       "      <td>281</td>\n",
       "      <td>13</td>\n",
       "      <td>2021-03-20 14:19:36</td>\n",
       "    </tr>\n",
       "    <tr>\n",
       "      <th>98</th>\n",
       "      <td>285</td>\n",
       "      <td>281</td>\n",
       "      <td>98</td>\n",
       "      <td>2021-03-20 14:19:36</td>\n",
       "    </tr>\n",
       "    <tr>\n",
       "      <th>99</th>\n",
       "      <td>285</td>\n",
       "      <td>281</td>\n",
       "      <td>48</td>\n",
       "      <td>2021-03-20 14:19:36</td>\n",
       "    </tr>\n",
       "    <tr>\n",
       "      <th>96</th>\n",
       "      <td>285</td>\n",
       "      <td>281</td>\n",
       "      <td>43</td>\n",
       "      <td>2021-03-20 14:19:36</td>\n",
       "    </tr>\n",
       "    <tr>\n",
       "      <th>92</th>\n",
       "      <td>285</td>\n",
       "      <td>281</td>\n",
       "      <td>112</td>\n",
       "      <td>2021-03-20 14:19:37</td>\n",
       "    </tr>\n",
       "    <tr>\n",
       "      <th>90</th>\n",
       "      <td>285</td>\n",
       "      <td>281</td>\n",
       "      <td>74</td>\n",
       "      <td>2021-03-20 14:19:37</td>\n",
       "    </tr>\n",
       "    <tr>\n",
       "      <th>91</th>\n",
       "      <td>285</td>\n",
       "      <td>281</td>\n",
       "      <td>68</td>\n",
       "      <td>2021-03-20 14:19:37</td>\n",
       "    </tr>\n",
       "    <tr>\n",
       "      <th>89</th>\n",
       "      <td>285</td>\n",
       "      <td>281</td>\n",
       "      <td>84</td>\n",
       "      <td>2021-03-20 14:19:38</td>\n",
       "    </tr>\n",
       "    <tr>\n",
       "      <th>88</th>\n",
       "      <td>285</td>\n",
       "      <td>281</td>\n",
       "      <td>87</td>\n",
       "      <td>2021-03-20 14:19:38</td>\n",
       "    </tr>\n",
       "    <tr>\n",
       "      <th>87</th>\n",
       "      <td>285</td>\n",
       "      <td>281</td>\n",
       "      <td>90</td>\n",
       "      <td>2021-03-20 14:19:38</td>\n",
       "    </tr>\n",
       "    <tr>\n",
       "      <th>86</th>\n",
       "      <td>285</td>\n",
       "      <td>281</td>\n",
       "      <td>11</td>\n",
       "      <td>2021-03-20 14:19:39</td>\n",
       "    </tr>\n",
       "    <tr>\n",
       "      <th>85</th>\n",
       "      <td>285</td>\n",
       "      <td>281</td>\n",
       "      <td>17</td>\n",
       "      <td>2021-03-20 14:19:39</td>\n",
       "    </tr>\n",
       "    <tr>\n",
       "      <th>84</th>\n",
       "      <td>285</td>\n",
       "      <td>281</td>\n",
       "      <td>45</td>\n",
       "      <td>2021-03-20 14:19:39</td>\n",
       "    </tr>\n",
       "    <tr>\n",
       "      <th>78</th>\n",
       "      <td>285</td>\n",
       "      <td>281</td>\n",
       "      <td>63</td>\n",
       "      <td>2021-03-20 14:19:40</td>\n",
       "    </tr>\n",
       "    <tr>\n",
       "      <th>76</th>\n",
       "      <td>285</td>\n",
       "      <td>281</td>\n",
       "      <td>91</td>\n",
       "      <td>2021-03-20 14:19:40</td>\n",
       "    </tr>\n",
       "    <tr>\n",
       "      <th>77</th>\n",
       "      <td>285</td>\n",
       "      <td>281</td>\n",
       "      <td>114</td>\n",
       "      <td>2021-03-20 14:19:40</td>\n",
       "    </tr>\n",
       "    <tr>\n",
       "      <th>80</th>\n",
       "      <td>285</td>\n",
       "      <td>281</td>\n",
       "      <td>72</td>\n",
       "      <td>2021-03-20 14:19:40</td>\n",
       "    </tr>\n",
       "    <tr>\n",
       "      <th>81</th>\n",
       "      <td>285</td>\n",
       "      <td>281</td>\n",
       "      <td>9</td>\n",
       "      <td>2021-03-20 14:19:40</td>\n",
       "    </tr>\n",
       "    <tr>\n",
       "      <th>82</th>\n",
       "      <td>285</td>\n",
       "      <td>281</td>\n",
       "      <td>99</td>\n",
       "      <td>2021-03-20 14:19:40</td>\n",
       "    </tr>\n",
       "    <tr>\n",
       "      <th>83</th>\n",
       "      <td>285</td>\n",
       "      <td>281</td>\n",
       "      <td>113</td>\n",
       "      <td>2021-03-20 14:19:40</td>\n",
       "    </tr>\n",
       "    <tr>\n",
       "      <th>79</th>\n",
       "      <td>285</td>\n",
       "      <td>281</td>\n",
       "      <td>67</td>\n",
       "      <td>2021-03-20 14:19:40</td>\n",
       "    </tr>\n",
       "    <tr>\n",
       "      <th>75</th>\n",
       "      <td>285</td>\n",
       "      <td>281</td>\n",
       "      <td>5</td>\n",
       "      <td>2021-03-20 14:19:41</td>\n",
       "    </tr>\n",
       "    <tr>\n",
       "      <th>74</th>\n",
       "      <td>285</td>\n",
       "      <td>281</td>\n",
       "      <td>97</td>\n",
       "      <td>2021-03-20 14:19:41</td>\n",
       "    </tr>\n",
       "    <tr>\n",
       "      <th>73</th>\n",
       "      <td>285</td>\n",
       "      <td>281</td>\n",
       "      <td>116</td>\n",
       "      <td>2021-03-20 14:19:41</td>\n",
       "    </tr>\n",
       "    <tr>\n",
       "      <th>72</th>\n",
       "      <td>285</td>\n",
       "      <td>281</td>\n",
       "      <td>62</td>\n",
       "      <td>2021-03-20 14:19:41</td>\n",
       "    </tr>\n",
       "    <tr>\n",
       "      <th>71</th>\n",
       "      <td>285</td>\n",
       "      <td>281</td>\n",
       "      <td>55</td>\n",
       "      <td>2021-03-20 14:19:41</td>\n",
       "    </tr>\n",
       "    <tr>\n",
       "      <th>56</th>\n",
       "      <td>285</td>\n",
       "      <td>281</td>\n",
       "      <td>66</td>\n",
       "      <td>2021-03-20 14:19:42</td>\n",
       "    </tr>\n",
       "    <tr>\n",
       "      <th>57</th>\n",
       "      <td>285</td>\n",
       "      <td>281</td>\n",
       "      <td>73</td>\n",
       "      <td>2021-03-20 14:19:42</td>\n",
       "    </tr>\n",
       "    <tr>\n",
       "      <th>58</th>\n",
       "      <td>285</td>\n",
       "      <td>281</td>\n",
       "      <td>77</td>\n",
       "      <td>2021-03-20 14:19:42</td>\n",
       "    </tr>\n",
       "    <tr>\n",
       "      <th>59</th>\n",
       "      <td>285</td>\n",
       "      <td>281</td>\n",
       "      <td>19</td>\n",
       "      <td>2021-03-20 14:19:42</td>\n",
       "    </tr>\n",
       "    <tr>\n",
       "      <th>60</th>\n",
       "      <td>285</td>\n",
       "      <td>281</td>\n",
       "      <td>7</td>\n",
       "      <td>2021-03-20 14:19:42</td>\n",
       "    </tr>\n",
       "    <tr>\n",
       "      <th>61</th>\n",
       "      <td>285</td>\n",
       "      <td>281</td>\n",
       "      <td>4</td>\n",
       "      <td>2021-03-20 14:19:42</td>\n",
       "    </tr>\n",
       "    <tr>\n",
       "      <th>62</th>\n",
       "      <td>285</td>\n",
       "      <td>281</td>\n",
       "      <td>47</td>\n",
       "      <td>2021-03-20 14:19:42</td>\n",
       "    </tr>\n",
       "    <tr>\n",
       "      <th>55</th>\n",
       "      <td>285</td>\n",
       "      <td>281</td>\n",
       "      <td>38</td>\n",
       "      <td>2021-03-20 14:19:42</td>\n",
       "    </tr>\n",
       "    <tr>\n",
       "      <th>64</th>\n",
       "      <td>285</td>\n",
       "      <td>281</td>\n",
       "      <td>115</td>\n",
       "      <td>2021-03-20 14:19:42</td>\n",
       "    </tr>\n",
       "    <tr>\n",
       "      <th>65</th>\n",
       "      <td>285</td>\n",
       "      <td>281</td>\n",
       "      <td>58</td>\n",
       "      <td>2021-03-20 14:19:42</td>\n",
       "    </tr>\n",
       "    <tr>\n",
       "      <th>67</th>\n",
       "      <td>285</td>\n",
       "      <td>281</td>\n",
       "      <td>53</td>\n",
       "      <td>2021-03-20 14:19:42</td>\n",
       "    </tr>\n",
       "    <tr>\n",
       "      <th>68</th>\n",
       "      <td>285</td>\n",
       "      <td>281</td>\n",
       "      <td>101</td>\n",
       "      <td>2021-03-20 14:19:42</td>\n",
       "    </tr>\n",
       "  </tbody>\n",
       "</table>\n",
       "</div>"
      ],
      "text/plain": [
       "     temp  feels_like station_number        time_queried\n",
       "108   285         281             30 2021-03-20 14:19:33\n",
       "107   285         281             42 2021-03-20 14:19:33\n",
       "106   285         281             54 2021-03-20 14:19:33\n",
       "103   285         281              6 2021-03-20 14:19:34\n",
       "105   285         281            108 2021-03-20 14:19:34\n",
       "104   285         281             56 2021-03-20 14:19:34\n",
       "102   285         281             52 2021-03-20 14:19:35\n",
       "101   285         281             18 2021-03-20 14:19:35\n",
       "100   285         281             32 2021-03-20 14:19:35\n",
       "94    285         281            106 2021-03-20 14:19:36\n",
       "95    285         281             31 2021-03-20 14:19:36\n",
       "93    285         281             23 2021-03-20 14:19:36\n",
       "97    285         281             13 2021-03-20 14:19:36\n",
       "98    285         281             98 2021-03-20 14:19:36\n",
       "99    285         281             48 2021-03-20 14:19:36\n",
       "96    285         281             43 2021-03-20 14:19:36\n",
       "92    285         281            112 2021-03-20 14:19:37\n",
       "90    285         281             74 2021-03-20 14:19:37\n",
       "91    285         281             68 2021-03-20 14:19:37\n",
       "89    285         281             84 2021-03-20 14:19:38\n",
       "88    285         281             87 2021-03-20 14:19:38\n",
       "87    285         281             90 2021-03-20 14:19:38\n",
       "86    285         281             11 2021-03-20 14:19:39\n",
       "85    285         281             17 2021-03-20 14:19:39\n",
       "84    285         281             45 2021-03-20 14:19:39\n",
       "78    285         281             63 2021-03-20 14:19:40\n",
       "76    285         281             91 2021-03-20 14:19:40\n",
       "77    285         281            114 2021-03-20 14:19:40\n",
       "80    285         281             72 2021-03-20 14:19:40\n",
       "81    285         281              9 2021-03-20 14:19:40\n",
       "82    285         281             99 2021-03-20 14:19:40\n",
       "83    285         281            113 2021-03-20 14:19:40\n",
       "79    285         281             67 2021-03-20 14:19:40\n",
       "75    285         281              5 2021-03-20 14:19:41\n",
       "74    285         281             97 2021-03-20 14:19:41\n",
       "73    285         281            116 2021-03-20 14:19:41\n",
       "72    285         281             62 2021-03-20 14:19:41\n",
       "71    285         281             55 2021-03-20 14:19:41\n",
       "56    285         281             66 2021-03-20 14:19:42\n",
       "57    285         281             73 2021-03-20 14:19:42\n",
       "58    285         281             77 2021-03-20 14:19:42\n",
       "59    285         281             19 2021-03-20 14:19:42\n",
       "60    285         281              7 2021-03-20 14:19:42\n",
       "61    285         281              4 2021-03-20 14:19:42\n",
       "62    285         281             47 2021-03-20 14:19:42\n",
       "55    285         281             38 2021-03-20 14:19:42\n",
       "64    285         281            115 2021-03-20 14:19:42\n",
       "65    285         281             58 2021-03-20 14:19:42\n",
       "67    285         281             53 2021-03-20 14:19:42\n",
       "68    285         281            101 2021-03-20 14:19:42"
      ]
     },
     "execution_count": 70,
     "metadata": {},
     "output_type": "execute_result"
    }
   ],
   "source": [
    "df[[\"temp\", \"feels_like\", \"station_number\", \"time_queried\"]].sort_values(\"time_queried\")[:50]"
   ]
  },
  {
   "cell_type": "code",
   "execution_count": null,
   "metadata": {},
   "outputs": [],
   "source": []
  },
  {
   "cell_type": "code",
   "execution_count": null,
   "metadata": {},
   "outputs": [],
   "source": []
  }
 ],
 "metadata": {
  "kernelspec": {
   "display_name": "Python 3",
   "language": "python",
   "name": "python3"
  },
  "language_info": {
   "codemirror_mode": {
    "name": "ipython",
    "version": 3
   },
   "file_extension": ".py",
   "mimetype": "text/x-python",
   "name": "python",
   "nbconvert_exporter": "python",
   "pygments_lexer": "ipython3",
   "version": "3.8.3"
  }
 },
 "nbformat": 4,
 "nbformat_minor": 4
}
