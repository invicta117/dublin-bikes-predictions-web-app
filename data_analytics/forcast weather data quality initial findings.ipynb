{
 "cells": [
  {
   "cell_type": "code",
   "execution_count": 1,
   "metadata": {},
   "outputs": [],
   "source": [
    "from sqlalchemy import create_engine\n",
    "import api_keys\n",
    "import pandas as pd\n",
    "import matplotlib.pyplot as plt\n",
    "import numpy as np"
   ]
  },
  {
   "cell_type": "code",
   "execution_count": 2,
   "metadata": {},
   "outputs": [
    {
     "name": "stdout",
     "output_type": "stream",
     "text": [
      "2021-03-20 13:44:59,577 INFO sqlalchemy.engine.base.Engine SHOW VARIABLES LIKE 'sql_mode'\n",
      "2021-03-20 13:44:59,577 INFO sqlalchemy.engine.base.Engine {}\n",
      "2021-03-20 13:44:59,709 INFO sqlalchemy.engine.base.Engine SHOW VARIABLES LIKE 'lower_case_table_names'\n",
      "2021-03-20 13:44:59,709 INFO sqlalchemy.engine.base.Engine {}\n",
      "2021-03-20 13:44:59,957 INFO sqlalchemy.engine.base.Engine SELECT DATABASE()\n",
      "2021-03-20 13:44:59,957 INFO sqlalchemy.engine.base.Engine {}\n",
      "2021-03-20 13:45:00,212 INFO sqlalchemy.engine.base.Engine show collation where `Charset` = 'utf8mb4' and `Collation` = 'utf8mb4_bin'\n",
      "2021-03-20 13:45:00,212 INFO sqlalchemy.engine.base.Engine {}\n",
      "2021-03-20 13:45:00,712 INFO sqlalchemy.engine.base.Engine SELECT CAST('test plain returns' AS CHAR(60)) AS anon_1\n",
      "2021-03-20 13:45:00,712 INFO sqlalchemy.engine.base.Engine {}\n",
      "2021-03-20 13:45:00,831 INFO sqlalchemy.engine.base.Engine SELECT CAST('test unicode returns' AS CHAR(60)) AS anon_1\n",
      "2021-03-20 13:45:00,831 INFO sqlalchemy.engine.base.Engine {}\n",
      "2021-03-20 13:45:00,949 INFO sqlalchemy.engine.base.Engine SELECT CAST('test collated returns' AS CHAR CHARACTER SET utf8mb4) COLLATE utf8mb4_bin AS anon_1\n",
      "2021-03-20 13:45:00,949 INFO sqlalchemy.engine.base.Engine {}\n"
     ]
    }
   ],
   "source": [
    "DB_USER = api_keys.DB_USER\n",
    "DB_PASS = api_keys.DB_PASS\n",
    "DB_URL = api_keys.DB_URL\n",
    "\n",
    "engine = create_engine(\"mysql+pymysql://{0}:{1}@{2}\".format(DB_USER, DB_PASS, DB_URL), echo=True) \n",
    "connection = engine.connect()\n",
    "\n",
    "statement = \"\"\"SELECT * FROM dublin_bikes.weather_forecast_1hour\n",
    "                    order by time_queried desc\n",
    "                    limit 500;\"\"\" # create select statement for stations table"
   ]
  },
  {
   "cell_type": "code",
   "execution_count": 3,
   "metadata": {},
   "outputs": [
    {
     "name": "stdout",
     "output_type": "stream",
     "text": [
      "2021-03-20 13:45:02,588 INFO sqlalchemy.engine.base.Engine SELECT * FROM dublin_bikes.weather_forecast_1hour\n",
      "                    order by time_queried desc\n",
      "                    limit 500;\n",
      "2021-03-20 13:45:02,588 INFO sqlalchemy.engine.base.Engine {}\n"
     ]
    }
   ],
   "source": [
    "df = pd.read_sql_query(statement, engine) # https://stackoverflow.com/questions/29525808/sqlalchemy-orm-conversion-to-pandas-dataframe"
   ]
  },
  {
   "cell_type": "code",
   "execution_count": null,
   "metadata": {},
   "outputs": [],
   "source": [
    "# the following notebook is based off material presented in Data Analytics module COMP47350 labs 7 and 9"
   ]
  },
  {
   "cell_type": "code",
   "execution_count": 4,
   "metadata": {},
   "outputs": [
    {
     "data": {
      "text/plain": [
       "(500, 12)"
      ]
     },
     "execution_count": 4,
     "metadata": {},
     "output_type": "execute_result"
    }
   ],
   "source": [
    "df.shape"
   ]
  },
  {
   "cell_type": "code",
   "execution_count": 5,
   "metadata": {},
   "outputs": [
    {
     "data": {
      "text/html": [
       "<div>\n",
       "<style scoped>\n",
       "    .dataframe tbody tr th:only-of-type {\n",
       "        vertical-align: middle;\n",
       "    }\n",
       "\n",
       "    .dataframe tbody tr th {\n",
       "        vertical-align: top;\n",
       "    }\n",
       "\n",
       "    .dataframe thead th {\n",
       "        text-align: right;\n",
       "    }\n",
       "</style>\n",
       "<table border=\"1\" class=\"dataframe\">\n",
       "  <thead>\n",
       "    <tr style=\"text-align: right;\">\n",
       "      <th></th>\n",
       "      <th>station_number</th>\n",
       "      <th>time_queried</th>\n",
       "      <th>last_update</th>\n",
       "      <th>temp</th>\n",
       "      <th>feels_like</th>\n",
       "      <th>pressure</th>\n",
       "      <th>humidity</th>\n",
       "      <th>visibility</th>\n",
       "      <th>wind_speed</th>\n",
       "      <th>wind_deg</th>\n",
       "      <th>weather_main</th>\n",
       "      <th>weather_description</th>\n",
       "    </tr>\n",
       "  </thead>\n",
       "  <tbody>\n",
       "    <tr>\n",
       "      <th>0</th>\n",
       "      <td>21</td>\n",
       "      <td>2021-03-03 13:08:25</td>\n",
       "      <td>2021-03-05 01:00:00</td>\n",
       "      <td>278</td>\n",
       "      <td>273</td>\n",
       "      <td>1030</td>\n",
       "      <td>83</td>\n",
       "      <td>10000</td>\n",
       "      <td>5</td>\n",
       "      <td>94</td>\n",
       "      <td>Clouds</td>\n",
       "      <td>broken clouds</td>\n",
       "    </tr>\n",
       "    <tr>\n",
       "      <th>1</th>\n",
       "      <td>21</td>\n",
       "      <td>2021-03-03 13:08:25</td>\n",
       "      <td>2021-03-05 02:00:00</td>\n",
       "      <td>278</td>\n",
       "      <td>273</td>\n",
       "      <td>1030</td>\n",
       "      <td>82</td>\n",
       "      <td>10000</td>\n",
       "      <td>4</td>\n",
       "      <td>97</td>\n",
       "      <td>Clouds</td>\n",
       "      <td>broken clouds</td>\n",
       "    </tr>\n",
       "    <tr>\n",
       "      <th>2</th>\n",
       "      <td>21</td>\n",
       "      <td>2021-03-03 13:08:25</td>\n",
       "      <td>2021-03-05 03:00:00</td>\n",
       "      <td>277</td>\n",
       "      <td>273</td>\n",
       "      <td>1030</td>\n",
       "      <td>84</td>\n",
       "      <td>10000</td>\n",
       "      <td>4</td>\n",
       "      <td>99</td>\n",
       "      <td>Clouds</td>\n",
       "      <td>broken clouds</td>\n",
       "    </tr>\n",
       "    <tr>\n",
       "      <th>3</th>\n",
       "      <td>21</td>\n",
       "      <td>2021-03-03 13:08:25</td>\n",
       "      <td>2021-03-05 04:00:00</td>\n",
       "      <td>278</td>\n",
       "      <td>273</td>\n",
       "      <td>1030</td>\n",
       "      <td>84</td>\n",
       "      <td>10000</td>\n",
       "      <td>4</td>\n",
       "      <td>101</td>\n",
       "      <td>Clouds</td>\n",
       "      <td>broken clouds</td>\n",
       "    </tr>\n",
       "    <tr>\n",
       "      <th>4</th>\n",
       "      <td>21</td>\n",
       "      <td>2021-03-03 13:08:25</td>\n",
       "      <td>2021-03-05 05:00:00</td>\n",
       "      <td>278</td>\n",
       "      <td>274</td>\n",
       "      <td>1030</td>\n",
       "      <td>84</td>\n",
       "      <td>10000</td>\n",
       "      <td>3</td>\n",
       "      <td>104</td>\n",
       "      <td>Clouds</td>\n",
       "      <td>broken clouds</td>\n",
       "    </tr>\n",
       "  </tbody>\n",
       "</table>\n",
       "</div>"
      ],
      "text/plain": [
       "   station_number        time_queried         last_update  temp  feels_like  \\\n",
       "0              21 2021-03-03 13:08:25 2021-03-05 01:00:00   278         273   \n",
       "1              21 2021-03-03 13:08:25 2021-03-05 02:00:00   278         273   \n",
       "2              21 2021-03-03 13:08:25 2021-03-05 03:00:00   277         273   \n",
       "3              21 2021-03-03 13:08:25 2021-03-05 04:00:00   278         273   \n",
       "4              21 2021-03-03 13:08:25 2021-03-05 05:00:00   278         274   \n",
       "\n",
       "   pressure  humidity  visibility  wind_speed  wind_deg weather_main  \\\n",
       "0      1030        83       10000           5        94       Clouds   \n",
       "1      1030        82       10000           4        97       Clouds   \n",
       "2      1030        84       10000           4        99       Clouds   \n",
       "3      1030        84       10000           4       101       Clouds   \n",
       "4      1030        84       10000           3       104       Clouds   \n",
       "\n",
       "  weather_description  \n",
       "0       broken clouds  \n",
       "1       broken clouds  \n",
       "2       broken clouds  \n",
       "3       broken clouds  \n",
       "4       broken clouds  "
      ]
     },
     "execution_count": 5,
     "metadata": {},
     "output_type": "execute_result"
    }
   ],
   "source": [
    "df.head(5)"
   ]
  },
  {
   "cell_type": "code",
   "execution_count": 6,
   "metadata": {},
   "outputs": [
    {
     "data": {
      "text/html": [
       "<div>\n",
       "<style scoped>\n",
       "    .dataframe tbody tr th:only-of-type {\n",
       "        vertical-align: middle;\n",
       "    }\n",
       "\n",
       "    .dataframe tbody tr th {\n",
       "        vertical-align: top;\n",
       "    }\n",
       "\n",
       "    .dataframe thead th {\n",
       "        text-align: right;\n",
       "    }\n",
       "</style>\n",
       "<table border=\"1\" class=\"dataframe\">\n",
       "  <thead>\n",
       "    <tr style=\"text-align: right;\">\n",
       "      <th></th>\n",
       "      <th>station_number</th>\n",
       "      <th>time_queried</th>\n",
       "      <th>last_update</th>\n",
       "      <th>temp</th>\n",
       "      <th>feels_like</th>\n",
       "      <th>pressure</th>\n",
       "      <th>humidity</th>\n",
       "      <th>visibility</th>\n",
       "      <th>wind_speed</th>\n",
       "      <th>wind_deg</th>\n",
       "      <th>weather_main</th>\n",
       "      <th>weather_description</th>\n",
       "    </tr>\n",
       "  </thead>\n",
       "  <tbody>\n",
       "    <tr>\n",
       "      <th>495</th>\n",
       "      <td>41</td>\n",
       "      <td>2021-03-03 13:08:21</td>\n",
       "      <td>2021-03-04 01:00:00</td>\n",
       "      <td>278</td>\n",
       "      <td>275</td>\n",
       "      <td>1026</td>\n",
       "      <td>89</td>\n",
       "      <td>10000</td>\n",
       "      <td>2</td>\n",
       "      <td>26</td>\n",
       "      <td>Clouds</td>\n",
       "      <td>overcast clouds</td>\n",
       "    </tr>\n",
       "    <tr>\n",
       "      <th>496</th>\n",
       "      <td>41</td>\n",
       "      <td>2021-03-03 13:08:21</td>\n",
       "      <td>2021-03-04 02:00:00</td>\n",
       "      <td>278</td>\n",
       "      <td>274</td>\n",
       "      <td>1026</td>\n",
       "      <td>89</td>\n",
       "      <td>10000</td>\n",
       "      <td>3</td>\n",
       "      <td>25</td>\n",
       "      <td>Clouds</td>\n",
       "      <td>overcast clouds</td>\n",
       "    </tr>\n",
       "    <tr>\n",
       "      <th>497</th>\n",
       "      <td>41</td>\n",
       "      <td>2021-03-03 13:08:21</td>\n",
       "      <td>2021-03-04 03:00:00</td>\n",
       "      <td>278</td>\n",
       "      <td>274</td>\n",
       "      <td>1026</td>\n",
       "      <td>87</td>\n",
       "      <td>10000</td>\n",
       "      <td>3</td>\n",
       "      <td>20</td>\n",
       "      <td>Clouds</td>\n",
       "      <td>overcast clouds</td>\n",
       "    </tr>\n",
       "    <tr>\n",
       "      <th>498</th>\n",
       "      <td>41</td>\n",
       "      <td>2021-03-03 13:08:21</td>\n",
       "      <td>2021-03-04 04:00:00</td>\n",
       "      <td>278</td>\n",
       "      <td>274</td>\n",
       "      <td>1026</td>\n",
       "      <td>85</td>\n",
       "      <td>10000</td>\n",
       "      <td>3</td>\n",
       "      <td>19</td>\n",
       "      <td>Clouds</td>\n",
       "      <td>overcast clouds</td>\n",
       "    </tr>\n",
       "    <tr>\n",
       "      <th>499</th>\n",
       "      <td>41</td>\n",
       "      <td>2021-03-03 13:08:21</td>\n",
       "      <td>2021-03-04 05:00:00</td>\n",
       "      <td>278</td>\n",
       "      <td>274</td>\n",
       "      <td>1026</td>\n",
       "      <td>84</td>\n",
       "      <td>10000</td>\n",
       "      <td>3</td>\n",
       "      <td>23</td>\n",
       "      <td>Clouds</td>\n",
       "      <td>overcast clouds</td>\n",
       "    </tr>\n",
       "  </tbody>\n",
       "</table>\n",
       "</div>"
      ],
      "text/plain": [
       "     station_number        time_queried         last_update  temp  feels_like  \\\n",
       "495              41 2021-03-03 13:08:21 2021-03-04 01:00:00   278         275   \n",
       "496              41 2021-03-03 13:08:21 2021-03-04 02:00:00   278         274   \n",
       "497              41 2021-03-03 13:08:21 2021-03-04 03:00:00   278         274   \n",
       "498              41 2021-03-03 13:08:21 2021-03-04 04:00:00   278         274   \n",
       "499              41 2021-03-03 13:08:21 2021-03-04 05:00:00   278         274   \n",
       "\n",
       "     pressure  humidity  visibility  wind_speed  wind_deg weather_main  \\\n",
       "495      1026        89       10000           2        26       Clouds   \n",
       "496      1026        89       10000           3        25       Clouds   \n",
       "497      1026        87       10000           3        20       Clouds   \n",
       "498      1026        85       10000           3        19       Clouds   \n",
       "499      1026        84       10000           3        23       Clouds   \n",
       "\n",
       "    weather_description  \n",
       "495     overcast clouds  \n",
       "496     overcast clouds  \n",
       "497     overcast clouds  \n",
       "498     overcast clouds  \n",
       "499     overcast clouds  "
      ]
     },
     "execution_count": 6,
     "metadata": {},
     "output_type": "execute_result"
    }
   ],
   "source": [
    "df.tail(5)"
   ]
  },
  {
   "cell_type": "code",
   "execution_count": 7,
   "metadata": {},
   "outputs": [
    {
     "data": {
      "text/plain": [
       "station_number                  int64\n",
       "time_queried           datetime64[ns]\n",
       "last_update            datetime64[ns]\n",
       "temp                            int64\n",
       "feels_like                      int64\n",
       "pressure                        int64\n",
       "humidity                        int64\n",
       "visibility                      int64\n",
       "wind_speed                      int64\n",
       "wind_deg                        int64\n",
       "weather_main                   object\n",
       "weather_description            object\n",
       "dtype: object"
      ]
     },
     "execution_count": 7,
     "metadata": {},
     "output_type": "execute_result"
    }
   ],
   "source": [
    "df.dtypes"
   ]
  },
  {
   "cell_type": "code",
   "execution_count": 9,
   "metadata": {},
   "outputs": [
    {
     "data": {
      "text/plain": [
       "station_number               category\n",
       "time_queried           datetime64[ns]\n",
       "last_update            datetime64[ns]\n",
       "temp                            int64\n",
       "feels_like                      int64\n",
       "pressure                        int64\n",
       "humidity                        int64\n",
       "visibility                      int64\n",
       "wind_speed                      int64\n",
       "wind_deg                        int64\n",
       "weather_main                 category\n",
       "weather_description          category\n",
       "dtype: object"
      ]
     },
     "execution_count": 9,
     "metadata": {},
     "output_type": "execute_result"
    }
   ],
   "source": [
    "categorical_columns = df[['station_number','weather_main', 'weather_description']].columns\n",
    "# Convert data type to category for these columns\n",
    "for column in categorical_columns:\n",
    "    df[column] = df[column].astype('category')  \n",
    "\n",
    "continuous_columns = df.select_dtypes(['int64']).columns\n",
    "datetime_columns = df.select_dtypes(['datetime64[ns]']).columns\n",
    "\n",
    "df.dtypes"
   ]
  },
  {
   "cell_type": "code",
   "execution_count": 10,
   "metadata": {},
   "outputs": [
    {
     "name": "stdout",
     "output_type": "stream",
     "text": [
      "Number of duplicate (excluding first) rows in the table is:  0\n",
      "Number of duplicate rows (including first) in the table is: 0\n"
     ]
    }
   ],
   "source": [
    "#Print the number of duplicates, without the original rows that were duplicated\n",
    "print('Number of duplicate (excluding first) rows in the table is: ', df.duplicated().sum())\n",
    "\n",
    "# Check for duplicate rows. \n",
    "# Use \"keep=False\" to mark all duplicates as true, including the original rows that were duplicated.\n",
    "print('Number of duplicate rows (including first) in the table is:', df[df.duplicated(keep=False)].shape[0])"
   ]
  },
  {
   "cell_type": "code",
   "execution_count": 11,
   "metadata": {},
   "outputs": [
    {
     "name": "stdout",
     "output_type": "stream",
     "text": [
      "Number of duplicate (excluding first) columns in the table is:  0\n",
      "Number of duplicate (including first) columns in the table is:  0\n"
     ]
    }
   ],
   "source": [
    "# Check for duplicate columns\n",
    "#First transpose the df so columns become rows, then apply the same check as above\n",
    "dfT = df.T\n",
    "print(\"Number of duplicate (excluding first) columns in the table is: \", dfT.duplicated().sum())\n",
    "print(\"Number of duplicate (including first) columns in the table is: \",  dfT[dfT.duplicated(keep=False)].shape[0])"
   ]
  },
  {
   "cell_type": "markdown",
   "metadata": {},
   "source": [
    "# no duplicate rows or columns"
   ]
  },
  {
   "cell_type": "code",
   "execution_count": 15,
   "metadata": {},
   "outputs": [
    {
     "data": {
      "text/html": [
       "<div>\n",
       "<style scoped>\n",
       "    .dataframe tbody tr th:only-of-type {\n",
       "        vertical-align: middle;\n",
       "    }\n",
       "\n",
       "    .dataframe tbody tr th {\n",
       "        vertical-align: top;\n",
       "    }\n",
       "\n",
       "    .dataframe thead th {\n",
       "        text-align: right;\n",
       "    }\n",
       "</style>\n",
       "<table border=\"1\" class=\"dataframe\">\n",
       "  <thead>\n",
       "    <tr style=\"text-align: right;\">\n",
       "      <th></th>\n",
       "      <th>count</th>\n",
       "      <th>unique</th>\n",
       "      <th>top</th>\n",
       "      <th>freq</th>\n",
       "    </tr>\n",
       "  </thead>\n",
       "  <tbody>\n",
       "    <tr>\n",
       "      <th>station_number</th>\n",
       "      <td>500</td>\n",
       "      <td>12</td>\n",
       "      <td>103</td>\n",
       "      <td>48</td>\n",
       "    </tr>\n",
       "    <tr>\n",
       "      <th>weather_main</th>\n",
       "      <td>500</td>\n",
       "      <td>1</td>\n",
       "      <td>Clouds</td>\n",
       "      <td>500</td>\n",
       "    </tr>\n",
       "    <tr>\n",
       "      <th>weather_description</th>\n",
       "      <td>500</td>\n",
       "      <td>2</td>\n",
       "      <td>overcast clouds</td>\n",
       "      <td>361</td>\n",
       "    </tr>\n",
       "  </tbody>\n",
       "</table>\n",
       "</div>"
      ],
      "text/plain": [
       "                    count unique              top freq\n",
       "station_number        500     12              103   48\n",
       "weather_main          500      1           Clouds  500\n",
       "weather_description   500      2  overcast clouds  361"
      ]
     },
     "execution_count": 15,
     "metadata": {},
     "output_type": "execute_result"
    }
   ],
   "source": [
    "df.select_dtypes(['category']).describe().T"
   ]
  },
  {
   "cell_type": "markdown",
   "metadata": {},
   "source": [
    "# station_status is constant column"
   ]
  },
  {
   "cell_type": "code",
   "execution_count": 16,
   "metadata": {},
   "outputs": [
    {
     "data": {
      "text/html": [
       "<div>\n",
       "<style scoped>\n",
       "    .dataframe tbody tr th:only-of-type {\n",
       "        vertical-align: middle;\n",
       "    }\n",
       "\n",
       "    .dataframe tbody tr th {\n",
       "        vertical-align: top;\n",
       "    }\n",
       "\n",
       "    .dataframe thead th {\n",
       "        text-align: right;\n",
       "    }\n",
       "</style>\n",
       "<table border=\"1\" class=\"dataframe\">\n",
       "  <thead>\n",
       "    <tr style=\"text-align: right;\">\n",
       "      <th></th>\n",
       "      <th>count</th>\n",
       "      <th>mean</th>\n",
       "      <th>std</th>\n",
       "      <th>min</th>\n",
       "      <th>25%</th>\n",
       "      <th>50%</th>\n",
       "      <th>75%</th>\n",
       "      <th>max</th>\n",
       "    </tr>\n",
       "  </thead>\n",
       "  <tbody>\n",
       "    <tr>\n",
       "      <th>temp</th>\n",
       "      <td>500.0</td>\n",
       "      <td>278.282</td>\n",
       "      <td>0.901166</td>\n",
       "      <td>277.0</td>\n",
       "      <td>278.0</td>\n",
       "      <td>278.0</td>\n",
       "      <td>279.0</td>\n",
       "      <td>281.0</td>\n",
       "    </tr>\n",
       "    <tr>\n",
       "      <th>feels_like</th>\n",
       "      <td>500.0</td>\n",
       "      <td>274.156</td>\n",
       "      <td>1.008811</td>\n",
       "      <td>273.0</td>\n",
       "      <td>274.0</td>\n",
       "      <td>274.0</td>\n",
       "      <td>274.0</td>\n",
       "      <td>277.0</td>\n",
       "    </tr>\n",
       "    <tr>\n",
       "      <th>pressure</th>\n",
       "      <td>500.0</td>\n",
       "      <td>1027.886</td>\n",
       "      <td>2.023163</td>\n",
       "      <td>1026.0</td>\n",
       "      <td>1026.0</td>\n",
       "      <td>1027.0</td>\n",
       "      <td>1030.0</td>\n",
       "      <td>1032.0</td>\n",
       "    </tr>\n",
       "    <tr>\n",
       "      <th>humidity</th>\n",
       "      <td>500.0</td>\n",
       "      <td>81.796</td>\n",
       "      <td>6.636148</td>\n",
       "      <td>68.0</td>\n",
       "      <td>77.0</td>\n",
       "      <td>83.0</td>\n",
       "      <td>87.0</td>\n",
       "      <td>94.0</td>\n",
       "    </tr>\n",
       "    <tr>\n",
       "      <th>visibility</th>\n",
       "      <td>500.0</td>\n",
       "      <td>10000.000</td>\n",
       "      <td>0.000000</td>\n",
       "      <td>10000.0</td>\n",
       "      <td>10000.0</td>\n",
       "      <td>10000.0</td>\n",
       "      <td>10000.0</td>\n",
       "      <td>10000.0</td>\n",
       "    </tr>\n",
       "    <tr>\n",
       "      <th>wind_speed</th>\n",
       "      <td>500.0</td>\n",
       "      <td>3.368</td>\n",
       "      <td>1.017175</td>\n",
       "      <td>2.0</td>\n",
       "      <td>3.0</td>\n",
       "      <td>3.0</td>\n",
       "      <td>4.0</td>\n",
       "      <td>5.0</td>\n",
       "    </tr>\n",
       "    <tr>\n",
       "      <th>wind_deg</th>\n",
       "      <td>500.0</td>\n",
       "      <td>69.756</td>\n",
       "      <td>36.938399</td>\n",
       "      <td>17.0</td>\n",
       "      <td>39.0</td>\n",
       "      <td>67.0</td>\n",
       "      <td>97.0</td>\n",
       "      <td>147.0</td>\n",
       "    </tr>\n",
       "  </tbody>\n",
       "</table>\n",
       "</div>"
      ],
      "text/plain": [
       "            count       mean        std      min      25%      50%      75%  \\\n",
       "temp        500.0    278.282   0.901166    277.0    278.0    278.0    279.0   \n",
       "feels_like  500.0    274.156   1.008811    273.0    274.0    274.0    274.0   \n",
       "pressure    500.0   1027.886   2.023163   1026.0   1026.0   1027.0   1030.0   \n",
       "humidity    500.0     81.796   6.636148     68.0     77.0     83.0     87.0   \n",
       "visibility  500.0  10000.000   0.000000  10000.0  10000.0  10000.0  10000.0   \n",
       "wind_speed  500.0      3.368   1.017175      2.0      3.0      3.0      4.0   \n",
       "wind_deg    500.0     69.756  36.938399     17.0     39.0     67.0     97.0   \n",
       "\n",
       "                max  \n",
       "temp          281.0  \n",
       "feels_like    277.0  \n",
       "pressure     1032.0  \n",
       "humidity       94.0  \n",
       "visibility  10000.0  \n",
       "wind_speed      5.0  \n",
       "wind_deg      147.0  "
      ]
     },
     "execution_count": 16,
     "metadata": {},
     "output_type": "execute_result"
    }
   ],
   "source": [
    "df.select_dtypes(include=['int64']).describe().T"
   ]
  },
  {
   "cell_type": "code",
   "execution_count": 17,
   "metadata": {},
   "outputs": [
    {
     "data": {
      "text/html": [
       "<div>\n",
       "<style scoped>\n",
       "    .dataframe tbody tr th:only-of-type {\n",
       "        vertical-align: middle;\n",
       "    }\n",
       "\n",
       "    .dataframe tbody tr th {\n",
       "        vertical-align: top;\n",
       "    }\n",
       "\n",
       "    .dataframe thead th {\n",
       "        text-align: right;\n",
       "    }\n",
       "</style>\n",
       "<table border=\"1\" class=\"dataframe\">\n",
       "  <thead>\n",
       "    <tr style=\"text-align: right;\">\n",
       "      <th></th>\n",
       "      <th>count</th>\n",
       "      <th>unique</th>\n",
       "      <th>top</th>\n",
       "      <th>freq</th>\n",
       "      <th>first</th>\n",
       "      <th>last</th>\n",
       "    </tr>\n",
       "  </thead>\n",
       "  <tbody>\n",
       "    <tr>\n",
       "      <th>time_queried</th>\n",
       "      <td>500</td>\n",
       "      <td>5</td>\n",
       "      <td>2021-03-03 13:08:24</td>\n",
       "      <td>132</td>\n",
       "      <td>2021-03-03 13:08:21</td>\n",
       "      <td>2021-03-03 13:08:25</td>\n",
       "    </tr>\n",
       "    <tr>\n",
       "      <th>last_update</th>\n",
       "      <td>500</td>\n",
       "      <td>48</td>\n",
       "      <td>2021-03-04 01:00:00</td>\n",
       "      <td>11</td>\n",
       "      <td>2021-03-03 13:00:00</td>\n",
       "      <td>2021-03-05 12:00:00</td>\n",
       "    </tr>\n",
       "  </tbody>\n",
       "</table>\n",
       "</div>"
      ],
      "text/plain": [
       "             count unique                 top freq               first  \\\n",
       "time_queried   500      5 2021-03-03 13:08:24  132 2021-03-03 13:08:21   \n",
       "last_update    500     48 2021-03-04 01:00:00   11 2021-03-03 13:00:00   \n",
       "\n",
       "                            last  \n",
       "time_queried 2021-03-03 13:08:25  \n",
       "last_update  2021-03-05 12:00:00  "
      ]
     },
     "execution_count": 17,
     "metadata": {},
     "output_type": "execute_result"
    }
   ],
   "source": [
    "df.select_dtypes(include=['datetime64[ns]']).describe().T"
   ]
  },
  {
   "cell_type": "code",
   "execution_count": 18,
   "metadata": {},
   "outputs": [
    {
     "data": {
      "text/plain": [
       "station_number         0\n",
       "time_queried           0\n",
       "last_update            0\n",
       "temp                   0\n",
       "feels_like             0\n",
       "pressure               0\n",
       "humidity               0\n",
       "visibility             0\n",
       "wind_speed             0\n",
       "wind_deg               0\n",
       "weather_main           0\n",
       "weather_description    0\n",
       "dtype: int64"
      ]
     },
     "execution_count": 18,
     "metadata": {},
     "output_type": "execute_result"
    }
   ],
   "source": [
    "df.isnull().sum()"
   ]
  },
  {
   "cell_type": "markdown",
   "metadata": {},
   "source": [
    "# logical integrity"
   ]
  },
  {
   "cell_type": "code",
   "execution_count": 20,
   "metadata": {},
   "outputs": [
    {
     "name": "stdout",
     "output_type": "stream",
     "text": [
      "Number of rows failing the test:  10\n"
     ]
    },
    {
     "data": {
      "text/html": [
       "<div>\n",
       "<style scoped>\n",
       "    .dataframe tbody tr th:only-of-type {\n",
       "        vertical-align: middle;\n",
       "    }\n",
       "\n",
       "    .dataframe tbody tr th {\n",
       "        vertical-align: top;\n",
       "    }\n",
       "\n",
       "    .dataframe thead th {\n",
       "        text-align: right;\n",
       "    }\n",
       "</style>\n",
       "<table border=\"1\" class=\"dataframe\">\n",
       "  <thead>\n",
       "    <tr style=\"text-align: right;\">\n",
       "      <th></th>\n",
       "      <th>time_queried</th>\n",
       "      <th>last_update</th>\n",
       "    </tr>\n",
       "  </thead>\n",
       "  <tbody>\n",
       "    <tr>\n",
       "      <th>12</th>\n",
       "      <td>2021-03-03 13:08:25</td>\n",
       "      <td>2021-03-03 13:00:00</td>\n",
       "    </tr>\n",
       "    <tr>\n",
       "      <th>60</th>\n",
       "      <td>2021-03-03 13:08:24</td>\n",
       "      <td>2021-03-03 13:00:00</td>\n",
       "    </tr>\n",
       "    <tr>\n",
       "      <th>108</th>\n",
       "      <td>2021-03-03 13:08:24</td>\n",
       "      <td>2021-03-03 13:00:00</td>\n",
       "    </tr>\n",
       "    <tr>\n",
       "      <th>156</th>\n",
       "      <td>2021-03-03 13:08:24</td>\n",
       "      <td>2021-03-03 13:00:00</td>\n",
       "    </tr>\n",
       "    <tr>\n",
       "      <th>224</th>\n",
       "      <td>2021-03-03 13:08:23</td>\n",
       "      <td>2021-03-03 13:00:00</td>\n",
       "    </tr>\n",
       "  </tbody>\n",
       "</table>\n",
       "</div>"
      ],
      "text/plain": [
       "           time_queried         last_update\n",
       "12  2021-03-03 13:08:25 2021-03-03 13:00:00\n",
       "60  2021-03-03 13:08:24 2021-03-03 13:00:00\n",
       "108 2021-03-03 13:08:24 2021-03-03 13:00:00\n",
       "156 2021-03-03 13:08:24 2021-03-03 13:00:00\n",
       "224 2021-03-03 13:08:23 2021-03-03 13:00:00"
      ]
     },
     "execution_count": 20,
     "metadata": {},
     "output_type": "execute_result"
    }
   ],
   "source": [
    "test_1 = df[['time_queried','last_update']][df['time_queried']>df['last_update']]\n",
    "print(\"Number of rows failing the test: \", test_1.shape[0])\n",
    "test_1.head(5)"
   ]
  },
  {
   "cell_type": "code",
   "execution_count": 22,
   "metadata": {},
   "outputs": [
    {
     "data": {
      "text/plain": [
       "array([[<matplotlib.axes._subplots.AxesSubplot object at 0x000002208B683FD0>,\n",
       "        <matplotlib.axes._subplots.AxesSubplot object at 0x000002208BE75E80>,\n",
       "        <matplotlib.axes._subplots.AxesSubplot object at 0x000002208BEA82E0>],\n",
       "       [<matplotlib.axes._subplots.AxesSubplot object at 0x000002208BECF760>,\n",
       "        <matplotlib.axes._subplots.AxesSubplot object at 0x000002208BEF7BB0>,\n",
       "        <matplotlib.axes._subplots.AxesSubplot object at 0x000002208BF260A0>],\n",
       "       [<matplotlib.axes._subplots.AxesSubplot object at 0x000002208BEB2C40>,\n",
       "        <matplotlib.axes._subplots.AxesSubplot object at 0x000002208BF5EC70>,\n",
       "        <matplotlib.axes._subplots.AxesSubplot object at 0x000002208BF891C0>]],\n",
       "      dtype=object)"
      ]
     },
     "execution_count": 22,
     "metadata": {},
     "output_type": "execute_result"
    },
    {
     "data": {
      "image/png": "[encoded data removed]",
      "text/plain": [
       "<Figure size 720x720 with 9 Axes>"
      ]
     },
     "metadata": {
      "needs_background": "light"
     },
     "output_type": "display_data"
    }
   ],
   "source": [
    "df[continuous_columns].hist(layout=(3, 3), figsize=(10,10), bins=10)"
   ]
  },
  {
   "cell_type": "code",
   "execution_count": 24,
   "metadata": {},
   "outputs": [
    {
     "data": {
      "text/plain": [
       "temp             AxesSubplot(0.125,0.657941;0.227941x0.222059)\n",
       "feels_like    AxesSubplot(0.398529,0.657941;0.227941x0.222059)\n",
       "pressure      AxesSubplot(0.672059,0.657941;0.227941x0.222059)\n",
       "humidity         AxesSubplot(0.125,0.391471;0.227941x0.222059)\n",
       "visibility    AxesSubplot(0.398529,0.391471;0.227941x0.222059)\n",
       "wind_speed    AxesSubplot(0.672059,0.391471;0.227941x0.222059)\n",
       "wind_deg            AxesSubplot(0.125,0.125;0.227941x0.222059)\n",
       "dtype: object"
      ]
     },
     "execution_count": 24,
     "metadata": {},
     "output_type": "execute_result"
    },
    {
     "data": {
      "image/png": "[encoded data removed]",
      "text/plain": [
       "<Figure size 720x720 with 9 Axes>"
      ]
     },
     "metadata": {
      "needs_background": "light"
     },
     "output_type": "display_data"
    }
   ],
   "source": [
    "df[continuous_columns].plot(kind='box', subplots=True, figsize=(10,10), layout=(3,3), sharex=False, sharey=False)"
   ]
  },
  {
   "cell_type": "code",
   "execution_count": 25,
   "metadata": {},
   "outputs": [
    {
     "data": {
      "text/plain": [
       "<matplotlib.axes._subplots.AxesSubplot at 0x2208c7f6c40>"
      ]
     },
     "execution_count": 25,
     "metadata": {},
     "output_type": "execute_result"
    },
    {
     "data": {
      "image/png": "[encoded data removed]",
      "text/plain": [
       "<Figure size 432x288 with 1 Axes>"
      ]
     },
     "metadata": {
      "needs_background": "light"
     },
     "output_type": "display_data"
    }
   ],
   "source": [
    "df[datetime_columns].plot()"
   ]
  },
  {
   "cell_type": "code",
   "execution_count": 26,
   "metadata": {},
   "outputs": [
    {
     "name": "stdout",
     "output_type": "stream",
     "text": [
      "time_queried\n"
     ]
    },
    {
     "data": {
      "text/plain": [
       "<matplotlib.axes._subplots.AxesSubplot at 0x2208d9a2fd0>"
      ]
     },
     "execution_count": 26,
     "metadata": {},
     "output_type": "execute_result"
    },
    {
     "data": {
      "image/png": "[encoded data removed]",
      "text/plain": [
       "<Figure size 432x288 with 1 Axes>"
      ]
     },
     "metadata": {
      "needs_background": "light"
     },
     "output_type": "display_data"
    }
   ],
   "source": [
    "print(datetime_columns[0])\n",
    "df[datetime_columns[0]].hist()"
   ]
  },
  {
   "cell_type": "code",
   "execution_count": 27,
   "metadata": {},
   "outputs": [
    {
     "name": "stdout",
     "output_type": "stream",
     "text": [
      "last_update\n"
     ]
    },
    {
     "data": {
      "text/plain": [
       "<matplotlib.axes._subplots.AxesSubplot at 0x2208da23730>"
      ]
     },
     "execution_count": 27,
     "metadata": {},
     "output_type": "execute_result"
    },
    {
     "data": {
      "image/png": "[encoded data removed]",
      "text/plain": [
       "<Figure size 432x288 with 1 Axes>"
      ]
     },
     "metadata": {
      "needs_background": "light"
     },
     "output_type": "display_data"
    }
   ],
   "source": [
    "print(datetime_columns[1])\n",
    "df[datetime_columns[1]].hist()"
   ]
  },
  {
   "cell_type": "code",
   "execution_count": 28,
   "metadata": {
    "scrolled": false
   },
   "outputs": [
    {
     "data": {
      "image/png": "[encoded data removed]",
      "text/plain": [
       "<Figure size 864x720 with 1 Axes>"
      ]
     },
     "metadata": {
      "needs_background": "light"
     },
     "output_type": "display_data"
    },
    {
     "data": {
      "image/png": "[encoded data removed]",
      "text/plain": [
       "<Figure size 864x720 with 1 Axes>"
      ]
     },
     "metadata": {
      "needs_background": "light"
     },
     "output_type": "display_data"
    },
    {
     "data": {
      "image/png": "[encoded data removed]",
      "text/plain": [
       "<Figure size 864x720 with 1 Axes>"
      ]
     },
     "metadata": {
      "needs_background": "light"
     },
     "output_type": "display_data"
    }
   ],
   "source": [
    "for col in categorical_columns:\n",
    "    f = df[col].value_counts().plot(kind='bar', figsize=(12,10))\n",
    "    plt.title(col)\n",
    "    plt.ylabel('number of occurances')\n",
    "    plt.show()"
   ]
  },
  {
   "cell_type": "code",
   "execution_count": null,
   "metadata": {},
   "outputs": [],
   "source": []
  }
 ],
 "metadata": {
  "kernelspec": {
   "display_name": "Python 3",
   "language": "python",
   "name": "python3"
  },
  "language_info": {
   "codemirror_mode": {
    "name": "ipython",
    "version": 3
   },
   "file_extension": ".py",
   "mimetype": "text/x-python",
   "name": "python",
   "nbconvert_exporter": "python",
   "pygments_lexer": "ipython3",
   "version": "3.8.3"
  }
 },
 "nbformat": 4,
 "nbformat_minor": 4
}
